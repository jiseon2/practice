{
  "nbformat": 4,
  "nbformat_minor": 0,
  "metadata": {
    "colab": {
      "provenance": [],
      "authorship_tag": "ABX9TyOvNkPC1hUeuZuAxK4ptMNp",
      "include_colab_link": true
    },
    "kernelspec": {
      "name": "python3",
      "display_name": "Python 3"
    },
    "language_info": {
      "name": "python"
    }
  },
  "cells": [
    {
      "cell_type": "markdown",
      "metadata": {
        "id": "view-in-github",
        "colab_type": "text"
      },
      "source": [
        "<a href=\"https://colab.research.google.com/github/jiseon2/practice/blob/main/%ED%99%98%EC%9C%A8%EB%B3%80%EB%8F%99%EC%97%90_%EB%94%B0%EB%A5%B8_DM_%EB%B0%8F_%EC%B4%9D%EC%9B%90%EA%B0%80_%EB%B3%80%EB%8F%99.ipynb\" target=\"_parent\"><img src=\"https://colab.research.google.com/assets/colab-badge.svg\" alt=\"Open In Colab\"/></a>"
      ]
    },
    {
      "cell_type": "code",
      "execution_count": 2,
      "metadata": {
        "colab": {
          "base_uri": "https://localhost:8080/"
        },
        "id": "lGAyi-fTXQcH",
        "outputId": "51cef5f5-65f6-4ed7-9eba-9a9ed98774f3"
      },
      "outputs": [
        {
          "output_type": "stream",
          "name": "stdout",
          "text": [
            "현재 작업 디렉토리: /content\n",
            "파일이 존재합니다.\n",
            "           date  exchange_rate  adjusted_material_cost_krw  total_cost_krw\n",
            "0    2021-09-01         1157.2                    115720.0        215720.0\n",
            "1    2021-09-02         1161.5                    116150.0        216150.0\n",
            "2    2021-09-03         1157.0                    115700.0        215700.0\n",
            "3    2021-09-06         1156.5                    115650.0        215650.0\n",
            "4    2021-09-07         1157.8                    115780.0        215780.0\n",
            "..          ...            ...                         ...             ...\n",
            "384  2023-03-24         1294.3                    129430.0        229430.0\n",
            "385  2023-03-27         1301.5                    130150.0        230150.0\n",
            "386  2023-03-28         1298.8                    129880.0        229880.0\n",
            "387  2023-03-29         1302.7                    130270.0        230270.0\n",
            "388  2023-03-30         1299.0                    129900.0        229900.0\n",
            "\n",
            "[389 rows x 4 columns]\n",
            "DataFrame이 'output.csv'로 저장되었습니다.\n"
          ]
        }
      ],
      "source": [
        "import pandas as pd\n",
        "import os\n",
        "\n",
        "# 현재 작업 디렉토리 출력\n",
        "print(\"현재 작업 디렉토리:\", os.getcwd())\n",
        "\n",
        "# CSV 파일 경로\n",
        "file_path = '기획재정부_환율_20230331.csv'  # 여기에 올바른 경로를 입력하세요.\n",
        "\n",
        "# 파일 존재 여부 확인\n",
        "if os.path.exists(file_path):\n",
        "    print(\"파일이 존재합니다.\")\n",
        "else:\n",
        "    print(\"파일이 존재하지 않습니다. 경로를 확인하세요.\")\n",
        "\n",
        "# CSV 파일에서 환율 데이터를 읽어오기\n",
        "def load_exchange_rates(file_path):\n",
        "    try:\n",
        "        # euc-kr 인코딩으로 읽기\n",
        "        return pd.read_csv(file_path, encoding='euc-kr')  # 또는 'cp949'로 시도\n",
        "    except Exception as e:\n",
        "        print(f\"CSV 파일 읽기 중 오류 발생: {e}\")\n",
        "\n",
        "# 제품 단위원가 계산 함수\n",
        "def calculate_costs(material_cost_usd, labor_cost_krw, overhead_cost_krw, exchange_rate):\n",
        "    adjusted_material_cost = material_cost_usd * exchange_rate  # KRW에서 USD로 변환\n",
        "    total_cost = adjusted_material_cost + labor_cost_krw + overhead_cost_krw\n",
        "    return adjusted_material_cost, total_cost\n",
        "\n",
        "def main():\n",
        "    # 비용 설정 (KRW)\n",
        "    material_cost_usd = 100  # 직접 재료비\n",
        "    labor_cost_krw = 60000       # 직접 노무비\n",
        "    overhead_cost_krw = 40000    # 간접 제조원가\n",
        "\n",
        "    # 환율 데이터 파일 경로\n",
        "    file_path = '/content/기획재정부_환율_20230331.csv'  # 여기에 환율 CSV 파일 경로를 입력하세요.\n",
        "\n",
        "    # CSV 파일에서 환율 데이터 로드\n",
        "    exchange_rates_df = load_exchange_rates(file_path)\n",
        "\n",
        "    # 결과를 저장할 리스트\n",
        "    results = []\n",
        "\n",
        "    # DataFrame을 순회하며 비용 계산\n",
        "    for index, row in exchange_rates_df.iterrows():\n",
        "        date = row['일자(년월일)']\n",
        "        exchange_rate = row['달러(원)']\n",
        "\n",
        "        adjusted_material_cost, total_cost = calculate_costs(\n",
        "            material_cost_usd,\n",
        "            labor_cost_krw,\n",
        "            overhead_cost_krw,\n",
        "            exchange_rate\n",
        "        )\n",
        "\n",
        "        results.append({\n",
        "            'date': date,\n",
        "            'exchange_rate': exchange_rate,\n",
        "            'adjusted_material_cost_krw': adjusted_material_cost,\n",
        "            'total_cost_krw': total_cost\n",
        "        })\n",
        "\n",
        "    # 결과 DataFrame 생성\n",
        "    results_df = pd.DataFrame(results)\n",
        "\n",
        "    # 결과 출력\n",
        "    print(results_df)\n",
        "\n",
        "    # DataFrame을 CSV 파일로 저장하기\n",
        "    output_file_path = 'output.csv'  # 저장할 파일 이름을 지정합니다.\n",
        "    results_df.to_csv(output_file_path, index=False, encoding='euc-kr')  # 인덱스를 저장하지 않도록 설정\n",
        "\n",
        "    print(f\"DataFrame이 '{output_file_path}'로 저장되었습니다.\")\n",
        "\n",
        "if __name__ == \"__main__\":\n",
        "    main()"
      ]
    },
    {
      "cell_type": "code",
      "source": [],
      "metadata": {
        "id": "mgqIrC5ubutl"
      },
      "execution_count": 1,
      "outputs": []
    }
  ]
}