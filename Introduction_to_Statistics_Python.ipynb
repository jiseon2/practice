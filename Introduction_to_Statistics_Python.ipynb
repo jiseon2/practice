{
  "cells": [
    {
      "cell_type": "markdown",
      "metadata": {
        "id": "view-in-github",
        "colab_type": "text"
      },
      "source": [
        "<a href=\"https://colab.research.google.com/github/jiseon2/practice/blob/main/Introduction_to_Statistics_Python.ipynb\" target=\"_parent\"><img src=\"https://colab.research.google.com/assets/colab-badge.svg\" alt=\"Open In Colab\"/></a>"
      ]
    },
    {
      "cell_type": "markdown",
      "id": "7f8ffac4",
      "metadata": {
        "id": "7f8ffac4"
      },
      "source": [
        "**Before Lectures**\n",
        "\n",
        "- [Introduction to Statistics](https://www.youtube.com/watch?v=YaCQrJCgbqg)"
      ]
    },
    {
      "cell_type": "markdown",
      "id": "22236ad6",
      "metadata": {
        "id": "22236ad6"
      },
      "source": [
        "## Import Libraries"
      ]
    },
    {
      "cell_type": "code",
      "execution_count": 2,
      "id": "ac3a1763",
      "metadata": {
        "ExecuteTime": {
          "end_time": "2022-10-06T12:07:24.721567Z",
          "start_time": "2022-10-06T12:07:24.712587Z"
        },
        "id": "ac3a1763"
      },
      "outputs": [],
      "source": [
        "import warnings\n",
        "warnings.simplefilter('ignore')\n",
        "\n",
        "import numpy as np\n",
        "import pandas as pd\n",
        "import scipy as sp\n",
        "\n",
        "# pip install seaborn\n",
        "import seaborn as sns   #데이터시각화에 사용\n",
        "import matplotlib.pyplot as plt\n",
        "from scipy import stats"
      ]
    },
    {
      "cell_type": "markdown",
      "id": "d5c56c65",
      "metadata": {
        "id": "d5c56c65"
      },
      "source": [
        "## Load Dataset"
      ]
    },
    {
      "cell_type": "code",
      "execution_count": 3,
      "id": "c8d861c0",
      "metadata": {
        "ExecuteTime": {
          "end_time": "2022-10-06T12:09:32.876087Z",
          "start_time": "2022-10-06T12:09:32.818227Z"
        },
        "id": "c8d861c0"
      },
      "outputs": [],
      "source": [
        "tips = sns.load_dataset('tips')\n",
        "iris = sns.load_dataset('iris')\n",
        "car_crashes = sns.load_dataset('car_crashes')"
      ]
    },
    {
      "cell_type": "markdown",
      "id": "10c40d23",
      "metadata": {
        "id": "10c40d23"
      },
      "source": [
        "## EDA (Exploratory Data Analysis)"
      ]
    },
    {
      "cell_type": "code",
      "execution_count": null,
      "id": "ae2069fe",
      "metadata": {
        "ExecuteTime": {
          "end_time": "2022-10-06T12:11:41.901574Z",
          "start_time": "2022-10-06T12:11:41.872652Z"
        },
        "id": "ae2069fe",
        "outputId": "7c8008c9-f6fd-44ec-a2d2-4de44834de2a"
      },
      "outputs": [
        {
          "data": {
            "text/html": [
              "<div>\n",
              "<style scoped>\n",
              "    .dataframe tbody tr th:only-of-type {\n",
              "        vertical-align: middle;\n",
              "    }\n",
              "\n",
              "    .dataframe tbody tr th {\n",
              "        vertical-align: top;\n",
              "    }\n",
              "\n",
              "    .dataframe thead th {\n",
              "        text-align: right;\n",
              "    }\n",
              "</style>\n",
              "<table border=\"1\" class=\"dataframe\">\n",
              "  <thead>\n",
              "    <tr style=\"text-align: right;\">\n",
              "      <th></th>\n",
              "      <th>total_bill</th>\n",
              "      <th>tip</th>\n",
              "      <th>sex</th>\n",
              "      <th>smoker</th>\n",
              "      <th>day</th>\n",
              "      <th>time</th>\n",
              "      <th>size</th>\n",
              "    </tr>\n",
              "  </thead>\n",
              "  <tbody>\n",
              "    <tr>\n",
              "      <th>239</th>\n",
              "      <td>29.03</td>\n",
              "      <td>5.92</td>\n",
              "      <td>Male</td>\n",
              "      <td>No</td>\n",
              "      <td>Sat</td>\n",
              "      <td>Dinner</td>\n",
              "      <td>3</td>\n",
              "    </tr>\n",
              "    <tr>\n",
              "      <th>240</th>\n",
              "      <td>27.18</td>\n",
              "      <td>2.00</td>\n",
              "      <td>Female</td>\n",
              "      <td>Yes</td>\n",
              "      <td>Sat</td>\n",
              "      <td>Dinner</td>\n",
              "      <td>2</td>\n",
              "    </tr>\n",
              "    <tr>\n",
              "      <th>241</th>\n",
              "      <td>22.67</td>\n",
              "      <td>2.00</td>\n",
              "      <td>Male</td>\n",
              "      <td>Yes</td>\n",
              "      <td>Sat</td>\n",
              "      <td>Dinner</td>\n",
              "      <td>2</td>\n",
              "    </tr>\n",
              "    <tr>\n",
              "      <th>242</th>\n",
              "      <td>17.82</td>\n",
              "      <td>1.75</td>\n",
              "      <td>Male</td>\n",
              "      <td>No</td>\n",
              "      <td>Sat</td>\n",
              "      <td>Dinner</td>\n",
              "      <td>2</td>\n",
              "    </tr>\n",
              "    <tr>\n",
              "      <th>243</th>\n",
              "      <td>18.78</td>\n",
              "      <td>3.00</td>\n",
              "      <td>Female</td>\n",
              "      <td>No</td>\n",
              "      <td>Thur</td>\n",
              "      <td>Dinner</td>\n",
              "      <td>2</td>\n",
              "    </tr>\n",
              "  </tbody>\n",
              "</table>\n",
              "</div>"
            ],
            "text/plain": [
              "     total_bill   tip     sex smoker   day    time  size\n",
              "239       29.03  5.92    Male     No   Sat  Dinner     3\n",
              "240       27.18  2.00  Female    Yes   Sat  Dinner     2\n",
              "241       22.67  2.00    Male    Yes   Sat  Dinner     2\n",
              "242       17.82  1.75    Male     No   Sat  Dinner     2\n",
              "243       18.78  3.00  Female     No  Thur  Dinner     2"
            ]
          },
          "execution_count": 13,
          "metadata": {},
          "output_type": "execute_result"
        }
      ],
      "source": [
        "# 0~4 rows\n",
        "tips.tail()"
      ]
    },
    {
      "cell_type": "code",
      "execution_count": null,
      "id": "80be2b27",
      "metadata": {
        "ExecuteTime": {
          "end_time": "2022-10-06T12:13:22.917950Z",
          "start_time": "2022-10-06T12:13:22.855119Z"
        },
        "id": "80be2b27",
        "outputId": "61b9245d-1f6b-4f08-e01f-76cafc810b49"
      },
      "outputs": [
        {
          "data": {
            "text/html": [
              "<div>\n",
              "<style scoped>\n",
              "    .dataframe tbody tr th:only-of-type {\n",
              "        vertical-align: middle;\n",
              "    }\n",
              "\n",
              "    .dataframe tbody tr th {\n",
              "        vertical-align: top;\n",
              "    }\n",
              "\n",
              "    .dataframe thead th {\n",
              "        text-align: right;\n",
              "    }\n",
              "</style>\n",
              "<table border=\"1\" class=\"dataframe\">\n",
              "  <thead>\n",
              "    <tr style=\"text-align: right;\">\n",
              "      <th></th>\n",
              "      <th>total_bill</th>\n",
              "      <th>tip</th>\n",
              "      <th>size</th>\n",
              "    </tr>\n",
              "  </thead>\n",
              "  <tbody>\n",
              "    <tr>\n",
              "      <th>count</th>\n",
              "      <td>244.000000</td>\n",
              "      <td>244.000000</td>\n",
              "      <td>244.000000</td>\n",
              "    </tr>\n",
              "    <tr>\n",
              "      <th>mean</th>\n",
              "      <td>19.785943</td>\n",
              "      <td>2.998279</td>\n",
              "      <td>2.569672</td>\n",
              "    </tr>\n",
              "    <tr>\n",
              "      <th>std</th>\n",
              "      <td>8.902412</td>\n",
              "      <td>1.383638</td>\n",
              "      <td>0.951100</td>\n",
              "    </tr>\n",
              "    <tr>\n",
              "      <th>min</th>\n",
              "      <td>3.070000</td>\n",
              "      <td>1.000000</td>\n",
              "      <td>1.000000</td>\n",
              "    </tr>\n",
              "    <tr>\n",
              "      <th>25%</th>\n",
              "      <td>13.347500</td>\n",
              "      <td>2.000000</td>\n",
              "      <td>2.000000</td>\n",
              "    </tr>\n",
              "    <tr>\n",
              "      <th>50%</th>\n",
              "      <td>17.795000</td>\n",
              "      <td>2.900000</td>\n",
              "      <td>2.000000</td>\n",
              "    </tr>\n",
              "    <tr>\n",
              "      <th>75%</th>\n",
              "      <td>24.127500</td>\n",
              "      <td>3.562500</td>\n",
              "      <td>3.000000</td>\n",
              "    </tr>\n",
              "    <tr>\n",
              "      <th>max</th>\n",
              "      <td>50.810000</td>\n",
              "      <td>10.000000</td>\n",
              "      <td>6.000000</td>\n",
              "    </tr>\n",
              "  </tbody>\n",
              "</table>\n",
              "</div>"
            ],
            "text/plain": [
              "       total_bill         tip        size\n",
              "count  244.000000  244.000000  244.000000\n",
              "mean    19.785943    2.998279    2.569672\n",
              "std      8.902412    1.383638    0.951100\n",
              "min      3.070000    1.000000    1.000000\n",
              "25%     13.347500    2.000000    2.000000\n",
              "50%     17.795000    2.900000    2.000000\n",
              "75%     24.127500    3.562500    3.000000\n",
              "max     50.810000   10.000000    6.000000"
            ]
          },
          "execution_count": 16,
          "metadata": {},
          "output_type": "execute_result"
        }
      ],
      "source": [
        "# Description of the dataset\n",
        "tips.describe()     # 범주형 자료 포함: tips.describe(include='all')"
      ]
    },
    {
      "cell_type": "code",
      "execution_count": null,
      "id": "06f85567",
      "metadata": {
        "ExecuteTime": {
          "end_time": "2022-10-06T12:13:58.906064Z",
          "start_time": "2022-10-06T12:13:58.844227Z"
        },
        "id": "06f85567",
        "outputId": "39c86239-a209-4aaf-fbef-c8c221d64af5"
      },
      "outputs": [
        {
          "name": "stdout",
          "output_type": "stream",
          "text": [
            "<class 'pandas.core.frame.DataFrame'>\n",
            "RangeIndex: 244 entries, 0 to 243\n",
            "Data columns (total 7 columns):\n",
            " #   Column      Non-Null Count  Dtype   \n",
            "---  ------      --------------  -----   \n",
            " 0   total_bill  244 non-null    float64 \n",
            " 1   tip         244 non-null    float64 \n",
            " 2   sex         244 non-null    category\n",
            " 3   smoker      244 non-null    category\n",
            " 4   day         244 non-null    category\n",
            " 5   time        244 non-null    category\n",
            " 6   size        244 non-null    int64   \n",
            "dtypes: category(4), float64(2), int64(1)\n",
            "memory usage: 7.4 KB\n"
          ]
        }
      ],
      "source": [
        "# Check Data Types\n",
        "tips.info()"
      ]
    },
    {
      "cell_type": "code",
      "execution_count": null,
      "id": "3b5e0ef5",
      "metadata": {
        "ExecuteTime": {
          "end_time": "2022-10-06T12:15:01.871062Z",
          "start_time": "2022-10-06T12:15:01.863036Z"
        },
        "id": "3b5e0ef5",
        "outputId": "8dd728b3-fe77-4905-cf8e-eded5e7a89ab"
      },
      "outputs": [
        {
          "data": {
            "text/plain": [
              "(244, 7)"
            ]
          },
          "execution_count": 18,
          "metadata": {},
          "output_type": "execute_result"
        }
      ],
      "source": [
        "# Shape of the dataset\n",
        "tips.shape"
      ]
    },
    {
      "cell_type": "code",
      "execution_count": null,
      "id": "6b5416af",
      "metadata": {
        "ExecuteTime": {
          "end_time": "2022-10-06T12:16:23.057759Z",
          "start_time": "2022-10-06T12:16:23.041769Z"
        },
        "id": "6b5416af",
        "outputId": "121d76b1-bdcd-47b7-f46e-af6f7f5da83f"
      },
      "outputs": [
        {
          "data": {
            "text/plain": [
              "total_bill    0\n",
              "tip           0\n",
              "sex           0\n",
              "smoker        0\n",
              "day           0\n",
              "time          0\n",
              "size          0\n",
              "dtype: int64"
            ]
          },
          "execution_count": 22,
          "metadata": {},
          "output_type": "execute_result"
        }
      ],
      "source": [
        "# Check NA(결측치) values\n",
        "tips.isna().sum()"
      ]
    },
    {
      "cell_type": "code",
      "execution_count": null,
      "id": "908295c7",
      "metadata": {
        "ExecuteTime": {
          "end_time": "2022-10-06T12:18:01.446385Z",
          "start_time": "2022-10-06T12:18:00.167762Z"
        },
        "id": "908295c7",
        "outputId": "fb91c4d6-472e-4369-9528-234e5193a002"
      },
      "outputs": [
        {
          "data": {
            "image/png": "[encoded data removed]",
            "text/plain": [
              "<Figure size 864x576 with 1 Axes>"
            ]
          },
          "metadata": {
            "image/png": {
              "height": 484,
              "width": 721
            }
          },
          "output_type": "display_data"
        }
      ],
      "source": [
        "plt.figure(figsize=(12,8))\n",
        "plt.scatter(tips['total_bill'], tips['tip'])\n",
        "plt.xlabel('Total Bill')\n",
        "plt.ylabel('Tip')\n",
        "plt.show()"
      ]
    },
    {
      "cell_type": "code",
      "execution_count": null,
      "id": "58b7731e",
      "metadata": {
        "ExecuteTime": {
          "end_time": "2022-10-06T12:21:24.428927Z",
          "start_time": "2022-10-06T12:21:23.012859Z"
        },
        "id": "58b7731e",
        "outputId": "9d7f4f0d-8352-47d5-b98f-5cebf336ad85"
      },
      "outputs": [
        {
          "data": {
            "image/png": "[encoded data removed]",
            "text/plain": [
              "<Figure size 432x288 with 1 Axes>"
            ]
          },
          "metadata": {
            "image/png": {
              "height": 266,
              "width": 395
            }
          },
          "output_type": "display_data"
        }
      ],
      "source": [
        "# Kernel Density Estimation: 히스토그램을 스무딩해서 라인 플롯으로 만들어 줌\n",
        "# Dinner & total_bill vs. Lunch & total_bill\n",
        "dt = tips.loc[tips['time'] == 'Dinner']['total_bill']\n",
        "lt = tips.loc[tips['time'] == 'Lunch']['total_bill']\n",
        "sns.kdeplot(dt, label='Dinner')\n",
        "sns.kdeplot(lt, label='Lunch')\n",
        "plt.legend()\n",
        "plt.show()"
      ]
    },
    {
      "cell_type": "code",
      "execution_count": null,
      "id": "4d1d3cc1",
      "metadata": {
        "ExecuteTime": {
          "end_time": "2022-10-06T12:22:42.589566Z",
          "start_time": "2022-10-06T12:22:41.594575Z"
        },
        "id": "4d1d3cc1",
        "outputId": "5e88d31c-5c69-40b4-9d16-8075bdbb276a"
      },
      "outputs": [
        {
          "data": {
            "image/png": "[encoded data removed]",
            "text/plain": [
              "<Figure size 432x288 with 1 Axes>"
            ]
          },
          "metadata": {
            "image/png": {
              "height": 259,
              "width": 377
            }
          },
          "output_type": "display_data"
        }
      ],
      "source": [
        "tips['smoker'].value_counts().plot(kind='bar')\n",
        "plt.show()"
      ]
    },
    {
      "cell_type": "code",
      "execution_count": null,
      "id": "82bd8acc",
      "metadata": {
        "ExecuteTime": {
          "end_time": "2022-10-06T12:25:17.099907Z",
          "start_time": "2022-10-06T12:25:16.471959Z"
        },
        "id": "82bd8acc",
        "outputId": "038d0277-8918-4ee2-84d4-be0253c9d2ec"
      },
      "outputs": [
        {
          "data": {
            "image/png": "[encoded data removed]",
            "text/plain": [
              "<Figure size 432x288 with 1 Axes>"
            ]
          },
          "metadata": {
            "image/png": {
              "height": 251,
              "width": 370
            }
          },
          "output_type": "display_data"
        }
      ],
      "source": [
        "pivoted_df = tips[['smoker', 'total_bill']].pivot(columns='smoker',\n",
        "                                    values='total_bill')\n",
        "pivoted_df.plot(kind='box')\n",
        "plt.show()"
      ]
    },
    {
      "cell_type": "markdown",
      "id": "ee8f014b",
      "metadata": {
        "id": "ee8f014b"
      },
      "source": [
        "## Descriptive Statistics"
      ]
    },
    {
      "cell_type": "markdown",
      "id": "cdfb280d",
      "metadata": {
        "id": "cdfb280d"
      },
      "source": [
        "- Sample Mean = $\\frac{1}{n}\\sum_{i=1}^nX_i$\n",
        "\n",
        "- Median : the value separating the higher half from the lower half of data\n",
        "\n",
        "- Mode : the value that has a higher frequency in a given set of values\n",
        "\n",
        "- IQR : the difference between the 75th and 25th percentiles of data\n",
        "\n",
        "- Sample Variance = $\\frac{\\sum(X_i - \\bar{X})^2}{N-1}$\n",
        "\n",
        "- Sample Covariance = $\\frac{\\sum_{i=1}^N(X_i - \\bar{X})(Y_i - \\bar{Y})}{N-1}$\n",
        "\n",
        "- Correlation Coefficient = $\\frac{S_{XY}}{S_XS_Y}$"
      ]
    },
    {
      "cell_type": "code",
      "execution_count": null,
      "id": "1affdaf5",
      "metadata": {
        "ExecuteTime": {
          "end_time": "2022-10-06T12:28:50.506283Z",
          "start_time": "2022-10-06T12:28:50.449821Z"
        },
        "id": "1affdaf5",
        "outputId": "4aec8eb4-2dd3-4452-b106-15a09b6947b9"
      },
      "outputs": [
        {
          "data": {
            "text/html": [
              "<div>\n",
              "<style scoped>\n",
              "    .dataframe tbody tr th:only-of-type {\n",
              "        vertical-align: middle;\n",
              "    }\n",
              "\n",
              "    .dataframe tbody tr th {\n",
              "        vertical-align: top;\n",
              "    }\n",
              "\n",
              "    .dataframe thead th {\n",
              "        text-align: right;\n",
              "    }\n",
              "</style>\n",
              "<table border=\"1\" class=\"dataframe\">\n",
              "  <thead>\n",
              "    <tr style=\"text-align: right;\">\n",
              "      <th></th>\n",
              "      <th>total_bill</th>\n",
              "      <th>tip</th>\n",
              "      <th>size</th>\n",
              "    </tr>\n",
              "  </thead>\n",
              "  <tbody>\n",
              "    <tr>\n",
              "      <th>count</th>\n",
              "      <td>244.000000</td>\n",
              "      <td>244.000000</td>\n",
              "      <td>244.000000</td>\n",
              "    </tr>\n",
              "    <tr>\n",
              "      <th>mean</th>\n",
              "      <td>19.785943</td>\n",
              "      <td>2.998279</td>\n",
              "      <td>2.569672</td>\n",
              "    </tr>\n",
              "    <tr>\n",
              "      <th>std</th>\n",
              "      <td>8.902412</td>\n",
              "      <td>1.383638</td>\n",
              "      <td>0.951100</td>\n",
              "    </tr>\n",
              "    <tr>\n",
              "      <th>min</th>\n",
              "      <td>3.070000</td>\n",
              "      <td>1.000000</td>\n",
              "      <td>1.000000</td>\n",
              "    </tr>\n",
              "    <tr>\n",
              "      <th>25%</th>\n",
              "      <td>13.347500</td>\n",
              "      <td>2.000000</td>\n",
              "      <td>2.000000</td>\n",
              "    </tr>\n",
              "    <tr>\n",
              "      <th>50%</th>\n",
              "      <td>17.795000</td>\n",
              "      <td>2.900000</td>\n",
              "      <td>2.000000</td>\n",
              "    </tr>\n",
              "    <tr>\n",
              "      <th>75%</th>\n",
              "      <td>24.127500</td>\n",
              "      <td>3.562500</td>\n",
              "      <td>3.000000</td>\n",
              "    </tr>\n",
              "    <tr>\n",
              "      <th>max</th>\n",
              "      <td>50.810000</td>\n",
              "      <td>10.000000</td>\n",
              "      <td>6.000000</td>\n",
              "    </tr>\n",
              "  </tbody>\n",
              "</table>\n",
              "</div>"
            ],
            "text/plain": [
              "       total_bill         tip        size\n",
              "count  244.000000  244.000000  244.000000\n",
              "mean    19.785943    2.998279    2.569672\n",
              "std      8.902412    1.383638    0.951100\n",
              "min      3.070000    1.000000    1.000000\n",
              "25%     13.347500    2.000000    2.000000\n",
              "50%     17.795000    2.900000    2.000000\n",
              "75%     24.127500    3.562500    3.000000\n",
              "max     50.810000   10.000000    6.000000"
            ]
          },
          "execution_count": 35,
          "metadata": {},
          "output_type": "execute_result"
        }
      ],
      "source": [
        "tips.describe()"
      ]
    },
    {
      "cell_type": "code",
      "execution_count": null,
      "id": "15956dd8",
      "metadata": {
        "ExecuteTime": {
          "end_time": "2022-10-06T12:31:20.853737Z",
          "start_time": "2022-10-06T12:31:20.843765Z"
        },
        "id": "15956dd8",
        "outputId": "f7eb5fec-2e20-4dc0-e606-d0b6c16dfbd2"
      },
      "outputs": [
        {
          "name": "stdout",
          "output_type": "stream",
          "text": [
            "2.99827868852459\n",
            "2.99827868852459\n",
            "2.99827868852459\n"
          ]
        }
      ],
      "source": [
        "# Mean\n",
        "print(tips['tip'].mean())\n",
        "print(np.mean(tips['tip']))\n",
        "print( tips['tip'].sum() / len(tips['tip']) )"
      ]
    },
    {
      "cell_type": "code",
      "execution_count": null,
      "id": "be79ccf0",
      "metadata": {
        "ExecuteTime": {
          "end_time": "2022-10-06T12:33:05.549058Z",
          "start_time": "2022-10-06T12:33:05.543073Z"
        },
        "id": "be79ccf0",
        "outputId": "ea160d99-954f-4159-d82c-9b341aea3298"
      },
      "outputs": [
        {
          "name": "stdout",
          "output_type": "stream",
          "text": [
            "2.9\n",
            "2.9\n"
          ]
        }
      ],
      "source": [
        "# Median\n",
        "print(tips['tip'].median())\n",
        "print(np.median(tips['tip']))"
      ]
    },
    {
      "cell_type": "code",
      "execution_count": null,
      "id": "83e563e0",
      "metadata": {
        "ExecuteTime": {
          "end_time": "2022-10-06T12:33:51.019048Z",
          "start_time": "2022-10-06T12:33:50.976162Z"
        },
        "id": "83e563e0",
        "outputId": "fe808da5-9a22-4e1c-9062-6c92faa81c8d"
      },
      "outputs": [
        {
          "data": {
            "text/html": [
              "<div>\n",
              "<style scoped>\n",
              "    .dataframe tbody tr th:only-of-type {\n",
              "        vertical-align: middle;\n",
              "    }\n",
              "\n",
              "    .dataframe tbody tr th {\n",
              "        vertical-align: top;\n",
              "    }\n",
              "\n",
              "    .dataframe thead th {\n",
              "        text-align: right;\n",
              "    }\n",
              "</style>\n",
              "<table border=\"1\" class=\"dataframe\">\n",
              "  <thead>\n",
              "    <tr style=\"text-align: right;\">\n",
              "      <th></th>\n",
              "      <th>total_bill</th>\n",
              "      <th>tip</th>\n",
              "      <th>sex</th>\n",
              "      <th>smoker</th>\n",
              "      <th>day</th>\n",
              "      <th>time</th>\n",
              "      <th>size</th>\n",
              "    </tr>\n",
              "  </thead>\n",
              "  <tbody>\n",
              "    <tr>\n",
              "      <th>0</th>\n",
              "      <td>13.42</td>\n",
              "      <td>2.0</td>\n",
              "      <td>Male</td>\n",
              "      <td>No</td>\n",
              "      <td>Sat</td>\n",
              "      <td>Dinner</td>\n",
              "      <td>2</td>\n",
              "    </tr>\n",
              "  </tbody>\n",
              "</table>\n",
              "</div>"
            ],
            "text/plain": [
              "   total_bill  tip   sex smoker  day    time  size\n",
              "0       13.42  2.0  Male     No  Sat  Dinner     2"
            ]
          },
          "execution_count": 49,
          "metadata": {},
          "output_type": "execute_result"
        }
      ],
      "source": [
        "# Mode, Mode(최빈값)라는 통계량은 카테고리컬 변수에 적합\n",
        "tips['smoker'].mode()\n",
        "tips.mode()"
      ]
    },
    {
      "cell_type": "code",
      "execution_count": null,
      "id": "8fb8d40b",
      "metadata": {
        "ExecuteTime": {
          "end_time": "2022-10-06T12:38:50.097684Z",
          "start_time": "2022-10-06T12:38:50.075739Z"
        },
        "id": "8fb8d40b",
        "outputId": "ae9112f7-5527-46eb-e4ff-6644ab6cedb3"
      },
      "outputs": [
        {
          "name": "stdout",
          "output_type": "stream",
          "text": [
            "1.914454638062471\n",
            "1.914454638062471\n",
            "1.914454638062471\n"
          ]
        },
        {
          "data": {
            "text/plain": [
              "1.3836381890011822"
            ]
          },
          "execution_count": 61,
          "metadata": {},
          "output_type": "execute_result"
        }
      ],
      "source": [
        "# Variance\n",
        "print(tips['tip'].var())\n",
        "print(np.var(tips['tip'], ddof=1))\n",
        "print(((tips['tip'] - tips['tip'].mean()) ** 2).sum() / (len(tips['tip']) -1))\n",
        "\n",
        "\n",
        "# Standard Deviation\n",
        "# np.sqrt(tips['tip'].var()) : 분산에 스퀘어루트\n",
        "tips['tip'].std()"
      ]
    },
    {
      "cell_type": "code",
      "execution_count": null,
      "id": "faf587d2",
      "metadata": {
        "ExecuteTime": {
          "end_time": "2022-10-06T12:41:44.497470Z",
          "start_time": "2022-10-06T12:41:44.476527Z"
        },
        "id": "faf587d2",
        "outputId": "b8b14dd7-a315-40fb-9429-66b916baabd3"
      },
      "outputs": [
        {
          "data": {
            "text/plain": [
              "1.5624999999999996"
            ]
          },
          "execution_count": 69,
          "metadata": {},
          "output_type": "execute_result"
        }
      ],
      "source": [
        "# IQR 산포도를 나타내는 값 중 하나, 제3분위수에서 제1분위수를 뺀 것\n",
        "iqr = np.quantile(tips['tip'], 0.75) - np.quantile(tips['tip'], 0.25)\n",
        "tips['tip'].quantile(0.75) - tips['tip'].quantile(0.25)"
      ]
    },
    {
      "cell_type": "code",
      "execution_count": 7,
      "id": "17f2df8f",
      "metadata": {
        "ExecuteTime": {
          "end_time": "2022-10-06T12:44:15.186280Z",
          "start_time": "2022-10-06T12:44:15.169324Z"
        },
        "colab": {
          "base_uri": "https://localhost:8080/"
        },
        "id": "17f2df8f",
        "outputId": "d4edb4b2-55ea-4305-911a-fab36e3a0e0b"
      },
      "outputs": [
        {
          "output_type": "stream",
          "name": "stdout",
          "text": [
            "(244, 244)\n"
          ]
        },
        {
          "output_type": "execute_result",
          "data": {
            "text/plain": [
              "array([[79.25293861,  8.32350163],\n",
              "       [ 8.32350163,  1.91445464]])"
            ]
          },
          "metadata": {},
          "execution_count": 7
        }
      ],
      "source": [
        "# Covariance X,Y        #(Variance-)Covariance Matrix, (분산)공분산행렬\n",
        "tips[['total_bill', 'tip']].cov()\n",
        "print(np.cov(tips[['total_bill','tip']]).shape) #np는 기본적으로 연산을 row 단위로 함을 알 수 있음\n",
        "np.cov(tips[['total_bill','tip']], rowvar=False)    #rowvar: variable이 row에 있느냐?, row가 아닌 column에 있기 때문에 false"
      ]
    },
    {
      "cell_type": "code",
      "execution_count": null,
      "id": "02dd3aaf",
      "metadata": {
        "ExecuteTime": {
          "end_time": "2022-10-06T12:45:47.363714Z",
          "start_time": "2022-10-06T12:45:47.337742Z"
        },
        "id": "02dd3aaf",
        "outputId": "eaca2a36-98e3-49ce-cb26-0af1303724ae"
      },
      "outputs": [
        {
          "data": {
            "text/html": [
              "<div>\n",
              "<style scoped>\n",
              "    .dataframe tbody tr th:only-of-type {\n",
              "        vertical-align: middle;\n",
              "    }\n",
              "\n",
              "    .dataframe tbody tr th {\n",
              "        vertical-align: top;\n",
              "    }\n",
              "\n",
              "    .dataframe thead th {\n",
              "        text-align: right;\n",
              "    }\n",
              "</style>\n",
              "<table border=\"1\" class=\"dataframe\">\n",
              "  <thead>\n",
              "    <tr style=\"text-align: right;\">\n",
              "      <th></th>\n",
              "      <th>total_bill</th>\n",
              "      <th>tip</th>\n",
              "    </tr>\n",
              "  </thead>\n",
              "  <tbody>\n",
              "    <tr>\n",
              "      <th>total_bill</th>\n",
              "      <td>1.000000</td>\n",
              "      <td>0.675734</td>\n",
              "    </tr>\n",
              "    <tr>\n",
              "      <th>tip</th>\n",
              "      <td>0.675734</td>\n",
              "      <td>1.000000</td>\n",
              "    </tr>\n",
              "  </tbody>\n",
              "</table>\n",
              "</div>"
            ],
            "text/plain": [
              "            total_bill       tip\n",
              "total_bill    1.000000  0.675734\n",
              "tip           0.675734  1.000000"
            ]
          },
          "execution_count": 76,
          "metadata": {},
          "output_type": "execute_result"
        }
      ],
      "source": [
        "# Pearson Correlation Coefficients (-1 <= r <= 1)\n",
        "tips[['total_bill', 'tip']].corr()"
      ]
    },
    {
      "cell_type": "code",
      "execution_count": 8,
      "id": "60dbcb5f",
      "metadata": {
        "ExecuteTime": {
          "end_time": "2022-10-06T12:47:41.473516Z",
          "start_time": "2022-10-06T12:47:41.461546Z"
        },
        "colab": {
          "base_uri": "https://localhost:8080/"
        },
        "id": "60dbcb5f",
        "outputId": "f2a65b16-eb54-4e67-d3d6-91c1d98d5843"
      },
      "outputs": [
        {
          "output_type": "stream",
          "name": "stdout",
          "text": [
            "0.6757341092113647\n",
            "6.69247064686336e-34\n"
          ]
        }
      ],
      "source": [
        "corr, p = stats.pearsonr(tips['total_bill'], tips['tip'])\n",
        "print(corr)\n",
        "print(p)    #p-value: 보통 유의수준 0.05(5%)를 기준으로 해서 이것보다 p-value가 작으면 두 변수의 상관계수의 값이 통계적으로 유의하다는 결론\n",
        "            #귀무가설이 상관관계가 없다(비상관성)는 것을 테스트하기 위한 것이었는데, p-value가 낮으니 귀무가설을 기각해서 상관관계가 있다(없다는 것을 기각한다)는 결론"
      ]
    },
    {
      "cell_type": "markdown",
      "id": "2f5c53c8",
      "metadata": {
        "id": "2f5c53c8"
      },
      "source": [
        "## Probability Distribution\n",
        "\n",
        "통계 분석을 하기 위해 데이터, 변수의 확률분포를 가정하는 것이 중요\n",
        "\n",
        "파이썬을 통해 머신러닝, 통계 모델링 등을 하게 될 텐데 그 때도 모델이 요구하는 데이터의 distribution이 있음\n",
        "\n",
        "그런 것들이 만족되는지, 즉 이 모델이 적합하게 데이터를 fitting을 시켰는지 판단하기 위해서도 확률 분포가 가지고 있는 여러 가정들, 혹은 그 모델이 가지고 있는 확률분포로서의 가정들을 테스트하게 됨, 모델이 적합하게 fitting이 되었는지 판단하기 위해서\n",
        "\n",
        "확률분포는 scipy라는 라이브러리 활용해서 쉽게 모델링 가능\n",
        "scipy의 하위 모듈인 stats가 가지고 있는 여러가지 확률변수를 모델링하는 클래스들"
      ]
    },
    {
      "cell_type": "markdown",
      "id": "d97b8112",
      "metadata": {
        "id": "d97b8112"
      },
      "source": [
        "|Type|Class|Prob Dist|\n",
        "|------|------|------|\n",
        "|Discrete|bernoulli|베르누이|\n",
        "|Discrete|binom|이항|\n",
        "|Continuous|uniform|균등|\n",
        "|Continuous|norm|정규|\n",
        "|Continuous|beta|베타|\n",
        "|Continuous|t|스튜던트t|"
      ]
    },
    {
      "cell_type": "markdown",
      "source": [
        "누군가가 데이터를 수집해서 적어놓은 것으로 이해할 수도 있지만\n",
        "\n",
        "더 확률론적으로 이해하면, sepal_length와 같은 하나의 변수가 다 확률변수가 됨\n",
        "\n",
        "확률변수는 무조건 확률분포를 가지고 있음, 확률분포는 확률변수의 도식도\n",
        "\n",
        "통계모델링이나 머신러닝 할 때는 변수를 하나의 확률변수로 바라보게 됨, 그 확률변수는 확률분포를 가지고 있기 때문에 그 분포적인 특성을 잘 활용하고, 해당 분포에서 샘플링을 하고, 해당 분포로부터 확률값을 계산하는 것들이 중요\n",
        "\n",
        "이런 데이터도 누군가가 수집해서 recording했다고 이해할 수도 있지만 sepal_length라는 것은 하나의 확률분포를 전제한, 따르는 확률변수다라고 보게 되면\n",
        "값들은 해당 확률분포로부터 \"샘플링된 값\"이라고도 볼 수 있음, 즉 이런 데이터를 확률변수가 혹은 확률분포가 생성한다고 볼 수도 있음\n",
        "\n",
        "모델링의 관점에서는 이 변수는 어떤 확률분포를 가지고 있는 확률변수고, 이 친구(sepal_length)가 샘플링을 통해 이런 값들을 가지고 나왔다고 이해하는 것도 유용한 접근"
      ],
      "metadata": {
        "id": "EL4w_vsxp4VP"
      },
      "id": "EL4w_vsxp4VP"
    },
    {
      "cell_type": "code",
      "source": [
        "iris"
      ],
      "metadata": {
        "colab": {
          "base_uri": "https://localhost:8080/",
          "height": 424
        },
        "id": "NC2J6rvlpr6z",
        "outputId": "53350b9d-bd5b-4733-b011-c36c9435245f"
      },
      "id": "NC2J6rvlpr6z",
      "execution_count": 4,
      "outputs": [
        {
          "output_type": "execute_result",
          "data": {
            "text/plain": [
              "     sepal_length  sepal_width  petal_length  petal_width    species\n",
              "0             5.1          3.5           1.4          0.2     setosa\n",
              "1             4.9          3.0           1.4          0.2     setosa\n",
              "2             4.7          3.2           1.3          0.2     setosa\n",
              "3             4.6          3.1           1.5          0.2     setosa\n",
              "4             5.0          3.6           1.4          0.2     setosa\n",
              "..            ...          ...           ...          ...        ...\n",
              "145           6.7          3.0           5.2          2.3  virginica\n",
              "146           6.3          2.5           5.0          1.9  virginica\n",
              "147           6.5          3.0           5.2          2.0  virginica\n",
              "148           6.2          3.4           5.4          2.3  virginica\n",
              "149           5.9          3.0           5.1          1.8  virginica\n",
              "\n",
              "[150 rows x 5 columns]"
            ],
            "text/html": [
              "\n",
              "  <div id=\"df-cd7d9786-a288-41a5-b21b-b5ed30387bd5\" class=\"colab-df-container\">\n",
              "    <div>\n",
              "<style scoped>\n",
              "    .dataframe tbody tr th:only-of-type {\n",
              "        vertical-align: middle;\n",
              "    }\n",
              "\n",
              "    .dataframe tbody tr th {\n",
              "        vertical-align: top;\n",
              "    }\n",
              "\n",
              "    .dataframe thead th {\n",
              "        text-align: right;\n",
              "    }\n",
              "</style>\n",
              "<table border=\"1\" class=\"dataframe\">\n",
              "  <thead>\n",
              "    <tr style=\"text-align: right;\">\n",
              "      <th></th>\n",
              "      <th>sepal_length</th>\n",
              "      <th>sepal_width</th>\n",
              "      <th>petal_length</th>\n",
              "      <th>petal_width</th>\n",
              "      <th>species</th>\n",
              "    </tr>\n",
              "  </thead>\n",
              "  <tbody>\n",
              "    <tr>\n",
              "      <th>0</th>\n",
              "      <td>5.1</td>\n",
              "      <td>3.5</td>\n",
              "      <td>1.4</td>\n",
              "      <td>0.2</td>\n",
              "      <td>setosa</td>\n",
              "    </tr>\n",
              "    <tr>\n",
              "      <th>1</th>\n",
              "      <td>4.9</td>\n",
              "      <td>3.0</td>\n",
              "      <td>1.4</td>\n",
              "      <td>0.2</td>\n",
              "      <td>setosa</td>\n",
              "    </tr>\n",
              "    <tr>\n",
              "      <th>2</th>\n",
              "      <td>4.7</td>\n",
              "      <td>3.2</td>\n",
              "      <td>1.3</td>\n",
              "      <td>0.2</td>\n",
              "      <td>setosa</td>\n",
              "    </tr>\n",
              "    <tr>\n",
              "      <th>3</th>\n",
              "      <td>4.6</td>\n",
              "      <td>3.1</td>\n",
              "      <td>1.5</td>\n",
              "      <td>0.2</td>\n",
              "      <td>setosa</td>\n",
              "    </tr>\n",
              "    <tr>\n",
              "      <th>4</th>\n",
              "      <td>5.0</td>\n",
              "      <td>3.6</td>\n",
              "      <td>1.4</td>\n",
              "      <td>0.2</td>\n",
              "      <td>setosa</td>\n",
              "    </tr>\n",
              "    <tr>\n",
              "      <th>...</th>\n",
              "      <td>...</td>\n",
              "      <td>...</td>\n",
              "      <td>...</td>\n",
              "      <td>...</td>\n",
              "      <td>...</td>\n",
              "    </tr>\n",
              "    <tr>\n",
              "      <th>145</th>\n",
              "      <td>6.7</td>\n",
              "      <td>3.0</td>\n",
              "      <td>5.2</td>\n",
              "      <td>2.3</td>\n",
              "      <td>virginica</td>\n",
              "    </tr>\n",
              "    <tr>\n",
              "      <th>146</th>\n",
              "      <td>6.3</td>\n",
              "      <td>2.5</td>\n",
              "      <td>5.0</td>\n",
              "      <td>1.9</td>\n",
              "      <td>virginica</td>\n",
              "    </tr>\n",
              "    <tr>\n",
              "      <th>147</th>\n",
              "      <td>6.5</td>\n",
              "      <td>3.0</td>\n",
              "      <td>5.2</td>\n",
              "      <td>2.0</td>\n",
              "      <td>virginica</td>\n",
              "    </tr>\n",
              "    <tr>\n",
              "      <th>148</th>\n",
              "      <td>6.2</td>\n",
              "      <td>3.4</td>\n",
              "      <td>5.4</td>\n",
              "      <td>2.3</td>\n",
              "      <td>virginica</td>\n",
              "    </tr>\n",
              "    <tr>\n",
              "      <th>149</th>\n",
              "      <td>5.9</td>\n",
              "      <td>3.0</td>\n",
              "      <td>5.1</td>\n",
              "      <td>1.8</td>\n",
              "      <td>virginica</td>\n",
              "    </tr>\n",
              "  </tbody>\n",
              "</table>\n",
              "<p>150 rows × 5 columns</p>\n",
              "</div>\n",
              "    <div class=\"colab-df-buttons\">\n",
              "\n",
              "  <div class=\"colab-df-container\">\n",
              "    <button class=\"colab-df-convert\" onclick=\"convertToInteractive('df-cd7d9786-a288-41a5-b21b-b5ed30387bd5')\"\n",
              "            title=\"Convert this dataframe to an interactive table.\"\n",
              "            style=\"display:none;\">\n",
              "\n",
              "  <svg xmlns=\"http://www.w3.org/2000/svg\" height=\"24px\" viewBox=\"0 -960 960 960\">\n",
              "    <path d=\"M120-120v-720h720v720H120Zm60-500h600v-160H180v160Zm220 220h160v-160H400v160Zm0 220h160v-160H400v160ZM180-400h160v-160H180v160Zm440 0h160v-160H620v160ZM180-180h160v-160H180v160Zm440 0h160v-160H620v160Z\"/>\n",
              "  </svg>\n",
              "    </button>\n",
              "\n",
              "  <style>\n",
              "    .colab-df-container {\n",
              "      display:flex;\n",
              "      gap: 12px;\n",
              "    }\n",
              "\n",
              "    .colab-df-convert {\n",
              "      background-color: #E8F0FE;\n",
              "      border: none;\n",
              "      border-radius: 50%;\n",
              "      cursor: pointer;\n",
              "      display: none;\n",
              "      fill: #1967D2;\n",
              "      height: 32px;\n",
              "      padding: 0 0 0 0;\n",
              "      width: 32px;\n",
              "    }\n",
              "\n",
              "    .colab-df-convert:hover {\n",
              "      background-color: #E2EBFA;\n",
              "      box-shadow: 0px 1px 2px rgba(60, 64, 67, 0.3), 0px 1px 3px 1px rgba(60, 64, 67, 0.15);\n",
              "      fill: #174EA6;\n",
              "    }\n",
              "\n",
              "    .colab-df-buttons div {\n",
              "      margin-bottom: 4px;\n",
              "    }\n",
              "\n",
              "    [theme=dark] .colab-df-convert {\n",
              "      background-color: #3B4455;\n",
              "      fill: #D2E3FC;\n",
              "    }\n",
              "\n",
              "    [theme=dark] .colab-df-convert:hover {\n",
              "      background-color: #434B5C;\n",
              "      box-shadow: 0px 1px 3px 1px rgba(0, 0, 0, 0.15);\n",
              "      filter: drop-shadow(0px 1px 2px rgba(0, 0, 0, 0.3));\n",
              "      fill: #FFFFFF;\n",
              "    }\n",
              "  </style>\n",
              "\n",
              "    <script>\n",
              "      const buttonEl =\n",
              "        document.querySelector('#df-cd7d9786-a288-41a5-b21b-b5ed30387bd5 button.colab-df-convert');\n",
              "      buttonEl.style.display =\n",
              "        google.colab.kernel.accessAllowed ? 'block' : 'none';\n",
              "\n",
              "      async function convertToInteractive(key) {\n",
              "        const element = document.querySelector('#df-cd7d9786-a288-41a5-b21b-b5ed30387bd5');\n",
              "        const dataTable =\n",
              "          await google.colab.kernel.invokeFunction('convertToInteractive',\n",
              "                                                    [key], {});\n",
              "        if (!dataTable) return;\n",
              "\n",
              "        const docLinkHtml = 'Like what you see? Visit the ' +\n",
              "          '<a target=\"_blank\" href=https://colab.research.google.com/notebooks/data_table.ipynb>data table notebook</a>'\n",
              "          + ' to learn more about interactive tables.';\n",
              "        element.innerHTML = '';\n",
              "        dataTable['output_type'] = 'display_data';\n",
              "        await google.colab.output.renderOutput(dataTable, element);\n",
              "        const docLink = document.createElement('div');\n",
              "        docLink.innerHTML = docLinkHtml;\n",
              "        element.appendChild(docLink);\n",
              "      }\n",
              "    </script>\n",
              "  </div>\n",
              "\n",
              "\n",
              "<div id=\"df-af0a698e-94bc-4d1b-9153-b21c4179fe9f\">\n",
              "  <button class=\"colab-df-quickchart\" onclick=\"quickchart('df-af0a698e-94bc-4d1b-9153-b21c4179fe9f')\"\n",
              "            title=\"Suggest charts\"\n",
              "            style=\"display:none;\">\n",
              "\n",
              "<svg xmlns=\"http://www.w3.org/2000/svg\" height=\"24px\"viewBox=\"0 0 24 24\"\n",
              "     width=\"24px\">\n",
              "    <g>\n",
              "        <path d=\"M19 3H5c-1.1 0-2 .9-2 2v14c0 1.1.9 2 2 2h14c1.1 0 2-.9 2-2V5c0-1.1-.9-2-2-2zM9 17H7v-7h2v7zm4 0h-2V7h2v10zm4 0h-2v-4h2v4z\"/>\n",
              "    </g>\n",
              "</svg>\n",
              "  </button>\n",
              "\n",
              "<style>\n",
              "  .colab-df-quickchart {\n",
              "      --bg-color: #E8F0FE;\n",
              "      --fill-color: #1967D2;\n",
              "      --hover-bg-color: #E2EBFA;\n",
              "      --hover-fill-color: #174EA6;\n",
              "      --disabled-fill-color: #AAA;\n",
              "      --disabled-bg-color: #DDD;\n",
              "  }\n",
              "\n",
              "  [theme=dark] .colab-df-quickchart {\n",
              "      --bg-color: #3B4455;\n",
              "      --fill-color: #D2E3FC;\n",
              "      --hover-bg-color: #434B5C;\n",
              "      --hover-fill-color: #FFFFFF;\n",
              "      --disabled-bg-color: #3B4455;\n",
              "      --disabled-fill-color: #666;\n",
              "  }\n",
              "\n",
              "  .colab-df-quickchart {\n",
              "    background-color: var(--bg-color);\n",
              "    border: none;\n",
              "    border-radius: 50%;\n",
              "    cursor: pointer;\n",
              "    display: none;\n",
              "    fill: var(--fill-color);\n",
              "    height: 32px;\n",
              "    padding: 0;\n",
              "    width: 32px;\n",
              "  }\n",
              "\n",
              "  .colab-df-quickchart:hover {\n",
              "    background-color: var(--hover-bg-color);\n",
              "    box-shadow: 0 1px 2px rgba(60, 64, 67, 0.3), 0 1px 3px 1px rgba(60, 64, 67, 0.15);\n",
              "    fill: var(--button-hover-fill-color);\n",
              "  }\n",
              "\n",
              "  .colab-df-quickchart-complete:disabled,\n",
              "  .colab-df-quickchart-complete:disabled:hover {\n",
              "    background-color: var(--disabled-bg-color);\n",
              "    fill: var(--disabled-fill-color);\n",
              "    box-shadow: none;\n",
              "  }\n",
              "\n",
              "  .colab-df-spinner {\n",
              "    border: 2px solid var(--fill-color);\n",
              "    border-color: transparent;\n",
              "    border-bottom-color: var(--fill-color);\n",
              "    animation:\n",
              "      spin 1s steps(1) infinite;\n",
              "  }\n",
              "\n",
              "  @keyframes spin {\n",
              "    0% {\n",
              "      border-color: transparent;\n",
              "      border-bottom-color: var(--fill-color);\n",
              "      border-left-color: var(--fill-color);\n",
              "    }\n",
              "    20% {\n",
              "      border-color: transparent;\n",
              "      border-left-color: var(--fill-color);\n",
              "      border-top-color: var(--fill-color);\n",
              "    }\n",
              "    30% {\n",
              "      border-color: transparent;\n",
              "      border-left-color: var(--fill-color);\n",
              "      border-top-color: var(--fill-color);\n",
              "      border-right-color: var(--fill-color);\n",
              "    }\n",
              "    40% {\n",
              "      border-color: transparent;\n",
              "      border-right-color: var(--fill-color);\n",
              "      border-top-color: var(--fill-color);\n",
              "    }\n",
              "    60% {\n",
              "      border-color: transparent;\n",
              "      border-right-color: var(--fill-color);\n",
              "    }\n",
              "    80% {\n",
              "      border-color: transparent;\n",
              "      border-right-color: var(--fill-color);\n",
              "      border-bottom-color: var(--fill-color);\n",
              "    }\n",
              "    90% {\n",
              "      border-color: transparent;\n",
              "      border-bottom-color: var(--fill-color);\n",
              "    }\n",
              "  }\n",
              "</style>\n",
              "\n",
              "  <script>\n",
              "    async function quickchart(key) {\n",
              "      const quickchartButtonEl =\n",
              "        document.querySelector('#' + key + ' button');\n",
              "      quickchartButtonEl.disabled = true;  // To prevent multiple clicks.\n",
              "      quickchartButtonEl.classList.add('colab-df-spinner');\n",
              "      try {\n",
              "        const charts = await google.colab.kernel.invokeFunction(\n",
              "            'suggestCharts', [key], {});\n",
              "      } catch (error) {\n",
              "        console.error('Error during call to suggestCharts:', error);\n",
              "      }\n",
              "      quickchartButtonEl.classList.remove('colab-df-spinner');\n",
              "      quickchartButtonEl.classList.add('colab-df-quickchart-complete');\n",
              "    }\n",
              "    (() => {\n",
              "      let quickchartButtonEl =\n",
              "        document.querySelector('#df-af0a698e-94bc-4d1b-9153-b21c4179fe9f button');\n",
              "      quickchartButtonEl.style.display =\n",
              "        google.colab.kernel.accessAllowed ? 'block' : 'none';\n",
              "    })();\n",
              "  </script>\n",
              "</div>\n",
              "    </div>\n",
              "  </div>\n"
            ]
          },
          "metadata": {},
          "execution_count": 4
        }
      ]
    },
    {
      "cell_type": "markdown",
      "id": "a2c8027b",
      "metadata": {
        "id": "a2c8027b"
      },
      "source": [
        "### Bernoulli"
      ]
    },
    {
      "cell_type": "markdown",
      "id": "8923dc95",
      "metadata": {
        "id": "8923dc95"
      },
      "source": [
        "$$X \\sim Bernoulli(p) $$\n",
        "\\begin{split}\n",
        "\\begin{align}\n",
        "f(x;p) =\n",
        "\\begin{cases}\n",
        "p   & \\text{if }x=1, \\\\\n",
        "1-p & \\text{if }x=0\n",
        "\\end{cases}\n",
        "\\end{align}\n",
        "\\end{split}"
      ]
    },
    {
      "cell_type": "code",
      "execution_count": null,
      "id": "f86ed1bc",
      "metadata": {
        "ExecuteTime": {
          "end_time": "2022-10-06T13:00:36.314345Z",
          "start_time": "2022-10-06T13:00:35.675560Z"
        },
        "id": "f86ed1bc",
        "outputId": "ef4533d0-cfb9-482f-af29-342f0f17de23"
      },
      "outputs": [
        {
          "name": "stdout",
          "output_type": "stream",
          "text": [
            "PMF: [0.9 0.1]\n"
          ]
        },
        {
          "data": {
            "image/png": "[encoded data removed]",
            "text/plain": [
              "<Figure size 432x288 with 1 Axes>"
            ]
          },
          "metadata": {
            "image/png": {
              "height": 251,
              "width": 386
            }
          },
          "output_type": "display_data"
        }
      ],
      "source": [
        "p = 0.1   #베르누이분포가 가지고 있는 모수가 p, x가 1이 나올 확률이 0.1\n",
        "rv = stats.bernoulli(p)   #rv=random variable\n",
        "\n",
        "# Probability Mass Function : 확률을 반환\n",
        "print(\"PMF:\", rv.pmf([0, 1]))   #0,1은 앞면 혹은 뒷면의 의미(random variable이 가질 수 있는 값)\n",
        "\n",
        "#iris 데이터 어떤 분포를 가정한 확률변수에서 샘플링된 값으로도 볼 수 있다고 했음!, 샘플링해보기\n",
        "n_sim = 100     #simulation 횟수\n",
        "samples = rv.rvs(n_sim)   #rv 클래스가 가진 rvs라는 method\n",
        "sns.countplot(samples)\n",
        "plt.show()"
      ]
    },
    {
      "cell_type": "markdown",
      "source": [
        "앞면과 뒷면이 아닌, 개냐 고양이냐라고 생각하면\n",
        "\n",
        "이 이미지가 개인가 고양이인가 맞추는 모델을 가정하면, 그 모델의 출력이 가정하는 분포는 베르누이 분포가 됨\n",
        "\n",
        "딥러닝이나 머신러닝을 사용해서 개와 고양이를 맞추는 모델의 출력이 가지는 분포를 베르누이 분포로 모델링 가능"
      ],
      "metadata": {
        "id": "TvFI3mD-wZv9"
      },
      "id": "TvFI3mD-wZv9"
    },
    {
      "cell_type": "markdown",
      "id": "802ba149",
      "metadata": {
        "id": "802ba149"
      },
      "source": [
        "### Binomial"
      ]
    },
    {
      "cell_type": "markdown",
      "source": [
        "이항분포는 코인을 한 번만 던지는 게 아니라 원하는 만큼 던져서\n",
        "원하는 만큼 던진 것에서 앞면이 몇 번 나오느냐"
      ],
      "metadata": {
        "id": "dJVePI_-xB57"
      },
      "id": "dJVePI_-xB57"
    },
    {
      "cell_type": "markdown",
      "id": "af6cf17a",
      "metadata": {
        "id": "af6cf17a"
      },
      "source": [
        "$$X \\sim Binomial(N,p) $$\n",
        "\\begin{align}\n",
        "f(x;N,p) = \\binom N x \\; p^x(1-p)^{N-x}\n",
        "\\end{align}"
      ]
    },
    {
      "cell_type": "markdown",
      "source": [
        "베르누이분포를 따르는 확률변수는 0 아니면 1만 값으로 가질 수 있음\n",
        "\n",
        "이항분포를 따르는 x라는 random variable이 가질 수 있는 값은 0부터 N까지\n",
        "N이 10이라면, 코인을 열 번 던진다는 의미\n",
        "\n",
        "10번 중에 10번 다 성공할 수도, 전부 다 실패할 수도 -> 성공 횟수가 이항분포를 따르는 확률변수가 가질 수 있는 값 so 0부터 N까지의 값을 가질 수 있음\n",
        "\n",
        "f는 pmf, pdf\n",
        "이런 discrete한 이산적인 확률변수의 경우 f가 실제 x의 확률을 의미\n",
        "\n",
        "\n",
        "이항분포가 가질 수 있는 모수는 크게 두 가지, 시행횟수를 의미하는 N과 성공확률인 p(앞면이 나올 확률)"
      ],
      "metadata": {
        "id": "mqkIm6e5xaIl"
      },
      "id": "mqkIm6e5xaIl"
    },
    {
      "cell_type": "code",
      "execution_count": null,
      "id": "62b74980",
      "metadata": {
        "ExecuteTime": {
          "end_time": "2022-10-06T13:06:21.136472Z",
          "start_time": "2022-10-06T13:06:19.658873Z"
        },
        "id": "62b74980",
        "outputId": "020c54c7-4ccd-40af-e311-c527cdf28d1e"
      },
      "outputs": [
        {
          "data": {
            "image/png": "[encoded data removed]",
            "text/plain": [
              "<Figure size 432x288 with 1 Axes>"
            ]
          },
          "metadata": {
            "image/png": {
              "height": 251,
              "width": 380
            }
          },
          "output_type": "display_data"
        }
      ],
      "source": [
        "N = 10\n",
        "p = 0.5\n",
        "rv = stats.binom(N, p)\n",
        "\n",
        "x = np.arange(0, N+1)\n",
        "rv.pmf(x)   #x에 들어갈 각각의 확률값 계산됨 -> sum하면 1 나옴\n",
        "plt.bar(x, rv.pmf(x))\n",
        "plt.show()"
      ]
    },
    {
      "cell_type": "code",
      "execution_count": null,
      "id": "b78e8766",
      "metadata": {
        "ExecuteTime": {
          "end_time": "2022-10-06T13:08:21.236832Z",
          "start_time": "2022-10-06T13:08:19.427230Z"
        },
        "id": "b78e8766",
        "outputId": "f2f600af-1012-4637-a969-a40317b9a0f3"
      },
      "outputs": [
        {
          "data": {
            "image/png": "[encoded data removed]",
            "text/plain": [
              "<Figure size 432x288 with 1 Axes>"
            ]
          },
          "metadata": {
            "image/png": {
              "height": 251,
              "width": 392
            }
          },
          "output_type": "display_data"
        }
      ],
      "source": [
        "#위는 식에 따른 이론적인 계산\n",
        "#확률변수에서 실제로 샘플링해서 데이터를 생성해 보자\n",
        "\n",
        "n_sim = 1000\n",
        "samples = rv.rvs(n_sim)\n",
        "sns.countplot(samples)\n",
        "plt.show()"
      ]
    },
    {
      "cell_type": "markdown",
      "source": [
        "위에서는 scipy의 서브패키지에 있는 stats라는 패키지에서 베르누이 혹은 바이놈, 확률변수 클래스를 생성하고, 거기서 rvs라는 method를 통해서 샘플링을 했음\n",
        "\n",
        "numpy에도 random이라는 서브패키지 안에 binomial이라는 함수 있음\n",
        "\n",
        "scipy는 rv = stats.binom(N, p) 클래스 만들어 주고\n",
        "여기서 rvs해서 생성했는데\n",
        "\n",
        "numpy는 샘플링이 정말 쉬움, 대신 단점: 바로 샘플링은 할 수 있는데 여기서 pdf나 pmf 계산 불가\n",
        "\n",
        "scipy는 rv 클래스 안에서 여러가지 method 활용해서 pmf값도 쓸 수 있고,\n",
        "cdf라는 Cumulative Density Function\n",
        "cmf: 누적분포함수\n",
        "inverse df 등도 다 구할 수 있음\n",
        "\n",
        "샘플링하는 것만 목표라면 numpy 쓰는 것 권장\n",
        "왜냐하면, 시간 차이\n",
        "\n",
        "%%timeit은 이 코드 아래 있는 코드를 반복적으로 실행할 때 평균적으로 시행 시간이 몇 초 정도 나오는지 테스트, 즉 코드의 실행 속도 알려줌"
      ],
      "metadata": {
        "id": "6rpYwMWU02aZ"
      },
      "id": "6rpYwMWU02aZ"
    },
    {
      "cell_type": "code",
      "execution_count": null,
      "id": "cca79661",
      "metadata": {
        "ExecuteTime": {
          "end_time": "2022-10-06T13:11:37.842637Z",
          "start_time": "2022-10-06T13:11:21.065809Z"
        },
        "id": "cca79661",
        "outputId": "e4466f75-8400-4b33-bdc7-ed1351ca3237"
      },
      "outputs": [
        {
          "name": "stdout",
          "output_type": "stream",
          "text": [
            "202 µs ± 49.3 µs per loop (mean ± std. dev. of 7 runs, 10000 loops each)\n"
          ]
        }
      ],
      "source": [
        "%%timeit\n",
        "_ = np.random.binomial(N, p, size=n_sim)"
      ]
    },
    {
      "cell_type": "code",
      "execution_count": null,
      "id": "26c9dd43",
      "metadata": {
        "ExecuteTime": {
          "end_time": "2022-10-06T13:11:49.094422Z",
          "start_time": "2022-10-06T13:11:42.801669Z"
        },
        "id": "26c9dd43",
        "outputId": "889222f0-a8c8-40fb-f1d1-248c6f3a8139"
      },
      "outputs": [
        {
          "name": "stdout",
          "output_type": "stream",
          "text": [
            "788 µs ± 74.7 µs per loop (mean ± std. dev. of 7 runs, 1000 loops each)\n"
          ]
        }
      ],
      "source": [
        "%%timeit\n",
        "_ = rv.rvs(n_sim)"
      ]
    },
    {
      "cell_type": "markdown",
      "id": "7f4b53fa",
      "metadata": {
        "id": "7f4b53fa"
      },
      "source": [
        "### Normal (=Gaussian)"
      ]
    },
    {
      "cell_type": "markdown",
      "id": "350fd5c5",
      "metadata": {
        "id": "350fd5c5"
      },
      "source": [
        "$$X \\sim N(\\mu,\\sigma^2) $$\n",
        "\n",
        "\\begin{align}\n",
        "f(x; \\mu, \\sigma^2) = \\dfrac{1}{\\sqrt{2\\pi\\sigma^2}} \\exp \\left(-\\dfrac{(x-\\mu)^2}{2\\sigma^2}\\right)\n",
        "\\end{align}"
      ]
    },
    {
      "cell_type": "markdown",
      "source": [
        "N은 Normal\n",
        "\n",
        "가우시안분포가 가진 모수는 평균과 분산\n",
        "\n",
        "\n",
        "여기서 f는 pdf, Probability Density Function, 얘가 나타내는 것은 확률값은 아님\n",
        "\n",
        "누적 분포 함수라는 cdf라는 함수에서 cdf를 미분한 것\n",
        "\n",
        "실제 확률과 비례한 값이긴 하지만, 전부 sum했을 때 1이 나오지 않고 1보다 커짐\n",
        "이 친구를 확률로 쓰려면 normalize해야 함, 다 더해서 나눠줘서 확률로 바꿔줘서 0과 1 사이로 range를 잡아놓아야 함, 이 친구 자체로는 확률로 쓸 수 없음\n",
        "\n",
        "그래도 pdf가 확률과 비례하는 값이기 때문에 많이 사용"
      ],
      "metadata": {
        "id": "V14sF16x5J7U"
      },
      "id": "V14sF16x5J7U"
    },
    {
      "cell_type": "markdown",
      "source": [
        "연속형 확률변수의 경우에는, 가령 x = -3의 확률을 딱 구할 수 없음, x가 -3일 확률은 0임, 반드시 구간으로 구해야 함(-3부터 ~사이에 있을 확률)"
      ],
      "metadata": {
        "id": "-gz0oZSa7Y1t"
      },
      "id": "-gz0oZSa7Y1t"
    },
    {
      "cell_type": "code",
      "execution_count": null,
      "id": "7143176a",
      "metadata": {
        "ExecuteTime": {
          "end_time": "2022-10-06T13:17:47.709557Z",
          "start_time": "2022-10-06T13:17:46.670701Z"
        },
        "id": "7143176a",
        "outputId": "c1429cb1-0504-4d50-98c1-d889df6f203f"
      },
      "outputs": [
        {
          "data": {
            "image/png": "[encoded data removed]",
            "text/plain": [
              "<Figure size 432x288 with 1 Axes>"
            ]
          },
          "metadata": {
            "image/png": {
              "height": 251,
              "width": 380
            }
          },
          "output_type": "display_data"
        }
      ],
      "source": [
        "mu = 0\n",
        "sigma = 1\n",
        "rv = stats.norm(mu, sigma)    #rv라는 class 생성\n",
        "\n",
        "#이론적인 pdf 값 보자!\n",
        "\n",
        "x = np.linspace(-3, 3, 100)   #정의역(x값)을 -3부터 3까지 해서 100개 정도 생성, -3에서 동일한 크기로 증가해서 3에 도달\n",
        "#rv.pdf(x) -> 위의 식의 값 계산됨, -3부터 3까지 100개를 만들었는데 각각의 값들이 위의 식의 x에 들어가게 됨, 시그마와 뮤는 지정한 모수값 들어감\n",
        "#rv.pdf(x).sum() -> 1보다 훨씬 커짐, pdf의 큰 특징 중 하나, 바로 확률로 쓸 수 없는 이유\n",
        "plt.plot(x, rv.pdf(x))\n",
        "plt.show()\n",
        "#노말분포의 가장 큰 특징은 bell-shaped, 정규분포를 따르는 데이터의 분포가 종 모양처럼 가운데 우뚝 솟아 있고 가운데 기준으로 대칭인 분포"
      ]
    },
    {
      "cell_type": "code",
      "execution_count": null,
      "id": "9918d196",
      "metadata": {
        "ExecuteTime": {
          "end_time": "2022-10-06T13:19:14.659894Z",
          "start_time": "2022-10-06T13:19:11.561495Z"
        },
        "id": "9918d196",
        "outputId": "388980eb-6529-4d47-a99d-dbbf821ab0ce"
      },
      "outputs": [
        {
          "data": {
            "image/png": "[encoded data removed]",
            "text/plain": [
              "<Figure size 432x288 with 1 Axes>"
            ]
          },
          "metadata": {
            "image/png": {
              "height": 251,
              "width": 395
            }
          },
          "output_type": "display_data"
        }
      ],
      "source": [
        "n_sim = 100000\n",
        "samples = rv.rvs(n_sim)\n",
        "sns.kdeplot(samples)    #kde: Kernel Density Estimation\n",
        "plt.show()"
      ]
    },
    {
      "cell_type": "code",
      "execution_count": null,
      "id": "2acf004e",
      "metadata": {
        "ExecuteTime": {
          "end_time": "2022-10-06T13:20:09.240603Z",
          "start_time": "2022-10-06T13:20:09.236609Z"
        },
        "id": "2acf004e"
      },
      "outputs": [],
      "source": [
        "n_sim = 100"
      ]
    },
    {
      "cell_type": "code",
      "execution_count": null,
      "id": "cb4629b6",
      "metadata": {
        "ExecuteTime": {
          "end_time": "2022-10-06T13:20:42.417206Z",
          "start_time": "2022-10-06T13:20:23.681617Z"
        },
        "id": "cb4629b6",
        "outputId": "318ec7fa-1ec1-4575-8e34-c81157721470"
      },
      "outputs": [
        {
          "name": "stdout",
          "output_type": "stream",
          "text": [
            "216 µs ± 28.3 µs per loop (mean ± std. dev. of 7 runs, 10000 loops each)\n"
          ]
        }
      ],
      "source": [
        "%%timeit\n",
        "_ = rv.rvs(n_sim)"
      ]
    },
    {
      "cell_type": "code",
      "execution_count": null,
      "id": "16bf494a",
      "metadata": {
        "ExecuteTime": {
          "end_time": "2022-10-06T13:20:56.167545Z",
          "start_time": "2022-10-06T13:20:53.393301Z"
        },
        "id": "16bf494a",
        "outputId": "eac42ee9-3ecb-4e4e-b784-09939b66b10f"
      },
      "outputs": [
        {
          "name": "stdout",
          "output_type": "stream",
          "text": [
            "35.1 µs ± 8.37 µs per loop (mean ± std. dev. of 7 runs, 10000 loops each)\n"
          ]
        }
      ],
      "source": [
        "%%timeit\n",
        "_ = np.random.normal(0, 1, n_sim)"
      ]
    },
    {
      "cell_type": "markdown",
      "source": [
        "특정 확률 분포에서 샘플링을 하고 싶을 때, 즉 특정 분포를 따르는 데이터를 생성하고 싶을 때\n",
        "scipy보다는 numpy가 가지고 있는 함수를 사용하는 것이 속도 측면에서 더 이득\n",
        "\n",
        "\n",
        "----\n",
        "\n",
        "특정 확률 분포를 따르는 확률 변수에서 데이터를 샘플링하는 것이 데이터 사이언스 같은 것을 할 때 굉장히 중요한 일, 생성할 횟수가 많아지면 속도에도 민감해지게 됨"
      ],
      "metadata": {
        "id": "z__egToS8lGh"
      },
      "id": "z__egToS8lGh"
    },
    {
      "cell_type": "markdown",
      "id": "1c943e08",
      "metadata": {
        "id": "1c943e08"
      },
      "source": [
        "> Box-Muller Algorithm\n",
        "> 1. Generate $U_1 \\sim Unif(0,1)$ and  $U_2 \\sim Unif(0,1)$\n",
        "> 2. $ X = \\sqrt{-2log(U_1)} cos(2\\pi U_2)$\n",
        "> 3. $ Y = \\sqrt{-2log(U_1)} sin(2\\pi U_2)$\n",
        "\n",
        "$$ X \\sim N(0,1) $$\n",
        "$$ Y \\sim N(0,1) $$"
      ]
    },
    {
      "cell_type": "markdown",
      "source": [
        "재밌는 알고리즘! 정규 분포를 따르는 데이터를 생성할 수 있는 알고리즘\n",
        "\n",
        "scipy 방법론이나 numpy의 normal이라는 함수를 통해서 정규분포를 따르는 데이터를 생성할 수 있지만\n",
        "\n",
        "함수를 사용하지 못한다, 악조건에 의해서 함수를 사용할 수 없다고 한다면\n",
        "위와 같이 간단하게 정규분포를 따르는 데이터를 생성할 수 있음\n",
        "정규분포를 따르는 X와 Y라는 확률변수를 만들 수 있음\n",
        "\n",
        "-------\n",
        "\n",
        "1. 균등분포(Uniform Distribution)에서 데이터를 하나 생성\n",
        "0부터 1까지로 정의된 균등분포는 np.random.random()함수를 사용하면 알아서 Unif(0,1)이라는 모수를 가진 확률분포에서 알아서 샘플링을 해줌\n",
        "이 함수를 통해 나오는 값이 0과 1 사이의 랜덤한 값!"
      ],
      "metadata": {
        "id": "0t19eQxX9WQH"
      },
      "id": "0t19eQxX9WQH"
    },
    {
      "cell_type": "code",
      "source": [
        "U1 = np.random.random(size = 1000)\n",
        "U2 = np.random.random(size = 1000)     #U1과 U2라는 random variable은 서로 독립\n",
        "X = np.sqrt(-2 * np.log(U1)) * np.cos(2* np.pi * U2)\n",
        "Y = np.sqrt(-2 * np.log(U1)) * np.sin(2* np.pi * U2)\n",
        "sns.distplot(X)\n",
        "plt.show()\n",
        "#0을 중심으로 대칭인 분포 나옴, Y도 마찬가지\n",
        "#알고리즘을 활용해서 특정분포를 전제한 데이터를 쉽게 생성할 수 있다!"
      ],
      "metadata": {
        "colab": {
          "base_uri": "https://localhost:8080/",
          "height": 430
        },
        "id": "s7JFM07s_a4B",
        "outputId": "99ef67c5-9965-4ce5-f6cd-9316635d8db5"
      },
      "id": "s7JFM07s_a4B",
      "execution_count": 6,
      "outputs": [
        {
          "output_type": "display_data",
          "data": {
            "text/plain": [
              "<Figure size 640x480 with 1 Axes>"
            ],
            "image/png": "[encoded data removed]"
          },
          "metadata": {}
        }
      ]
    },
    {
      "cell_type": "code",
      "execution_count": null,
      "id": "92657145",
      "metadata": {
        "ExecuteTime": {
          "end_time": "2022-10-06T13:25:41.203483Z",
          "start_time": "2022-10-06T13:25:36.076632Z"
        },
        "id": "92657145",
        "outputId": "63c2bbf9-982e-425d-dd6c-37b48fcc3a43"
      },
      "outputs": [
        {
          "name": "stdout",
          "output_type": "stream",
          "text": [
            "64.9 µs ± 19.6 µs per loop (mean ± std. dev. of 7 runs, 10000 loops each)\n"
          ]
        }
      ],
      "source": [
        "%%timeit\n",
        "U1 = np.random.random(size = 100)\n",
        "U2 = np.random.random(size = 100)\n",
        "X = np.sqrt(-2 * np.log(U1)) * np.cos(2* np.pi * U2)"
      ]
    },
    {
      "cell_type": "markdown",
      "id": "009aa43e",
      "metadata": {
        "id": "009aa43e"
      },
      "source": [
        "### CLT (Central Limit Theorem)\n",
        "중심 극한 정리"
      ]
    },
    {
      "cell_type": "markdown",
      "id": "18ec518c",
      "metadata": {
        "id": "18ec518c"
      },
      "source": [
        "The central limit theorem (CLT) states that the distribution of sample means(표본평균의 분포) approximates(근사한다) a normal distribution as the sample size gets larger(적어도 30), regardless of the population's distribution(모집단의 분포)."
      ]
    },
    {
      "cell_type": "code",
      "source": [
        "#tips['tip'].sample(30)    -> sample method 사용하면 원하는 샘플링 사이즈를 ()안에 적을 수 있음, tips의 tip은 244개 정도의 데이터를 가지고 있는 데이터 시리즈인데, 30을 넣으면 랜덤으로 30개를 골라줌\n",
        "#tips['tip'].sample(30).mean -> 랜덤으로 30개 샘플링한 시리즈의 평균 -> 얘가 표본평균임\n",
        "#이런 표본평균 값들의 확률분포를 보고싶은 것!"
      ],
      "metadata": {
        "id": "aSVReCWxBiMX"
      },
      "id": "aSVReCWxBiMX",
      "execution_count": null,
      "outputs": []
    },
    {
      "cell_type": "code",
      "execution_count": 10,
      "id": "b0adc28d",
      "metadata": {
        "ExecuteTime": {
          "end_time": "2022-10-06T13:34:08.918651Z",
          "start_time": "2022-10-06T13:34:08.910666Z"
        },
        "id": "b0adc28d"
      },
      "outputs": [],
      "source": [
        "#표본평균을 계산하는 코드 짜기\n",
        "def compute_sample_means(data, sample_size, n_sim=1000):\n",
        "    sample_means = []\n",
        "    for _ in range(n_sim):\n",
        "        sample_mean = data.sample(sample_size).mean() #data는 pandas dataframe\n",
        "        sample_means.append(sample_mean)    #표본평균의 분포를 보기 위해 sample_means라는 리스트에 쌓기\n",
        "    return np.array(sample_means)     #numpy method를 더 쉽게 쓰기 위해 list를 array로 바꾼 상태로 반환"
      ]
    },
    {
      "cell_type": "code",
      "execution_count": 13,
      "id": "1c9dbbbe",
      "metadata": {
        "ExecuteTime": {
          "end_time": "2022-10-06T13:40:52.401909Z",
          "start_time": "2022-10-06T13:40:49.478194Z"
        },
        "colab": {
          "base_uri": "https://localhost:8080/",
          "height": 452
        },
        "id": "1c9dbbbe",
        "outputId": "da497d60-5706-4562-93f2-d3edf79010b8"
      },
      "outputs": [
        {
          "output_type": "display_data",
          "data": {
            "text/plain": [
              "<Figure size 640x480 with 1 Axes>"
            ],
            "image/png": "[encoded data removed]"
          },
          "metadata": {}
        }
      ],
      "source": [
        "sample_size = 150   #sample_size 커질수록 정규분포, 대칭\n",
        "sampled_sample_mean = compute_sample_means(tips['tip'], sample_size)\n",
        "sns.distplot(sampled_sample_mean)   #분포가 어떻게 생겼는지 시각화, distplot은 데이터의 히스토그램과 kdeplot도 동시에 보여주는 plot\n",
        "stat, p = stats.shapiro(sampled_sample_mean)\n",
        "plt.title(p)\n",
        "plt.show()"
      ]
    },
    {
      "cell_type": "markdown",
      "source": [
        "통계학에서 이 데이터가 정말 정규분포를 따르는지 알 수 있는 방법\n",
        "지금까지는 데이터 시각화를 통해서만 확인했는데\n",
        "\n",
        "통계적 검정 방법을 통해 이 데이터가 샘플링된(생성된) 모집단의 분포가 정규분포인지 알 수 있는 방법론이 있음\n",
        "\n",
        "scipy의 stats에 shapiro라는 함수, 샤피로 윌크 테스트라는 데이터의 정규성을 판단하는 유명한 테스트에서 따온 함수"
      ],
      "metadata": {
        "id": "TCb47h8ZEwcK"
      },
      "id": "TCb47h8ZEwcK"
    },
    {
      "cell_type": "code",
      "source": [
        "stats.shapiro(sampled_sample_mean)\n",
        "#앞의 값은 검정통계량값, 뒤의 값은 p-value\n",
        "#샤피로 윌크 테스트는 '이 데이터가 정규분포에서 샘플링되었다'가 귀무가설임\n",
        "#귀무가설을 기각하기 위해서는 p-value값이 0.05보다 낮아야 함"
      ],
      "metadata": {
        "colab": {
          "base_uri": "https://localhost:8080/"
        },
        "id": "1Y4q7w1dFiC3",
        "outputId": "4c1f6bf9-68d8-42cb-917f-3499b21d1e7d"
      },
      "id": "1Y4q7w1dFiC3",
      "execution_count": 14,
      "outputs": [
        {
          "output_type": "execute_result",
          "data": {
            "text/plain": [
              "ShapiroResult(statistic=0.9984253644943237, pvalue=0.5068375468254089)"
            ]
          },
          "metadata": {},
          "execution_count": 14
        }
      ]
    },
    {
      "cell_type": "markdown",
      "id": "8c76a7ee",
      "metadata": {
        "id": "8c76a7ee"
      },
      "source": [
        "## Hypothesis Testing"
      ]
    },
    {
      "cell_type": "markdown",
      "id": "c42dbdd1",
      "metadata": {
        "id": "c42dbdd1"
      },
      "source": [
        "### Normality"
      ]
    },
    {
      "cell_type": "markdown",
      "id": "2809fc43",
      "metadata": {
        "id": "2809fc43"
      },
      "source": [
        "- Normality Test (Shapiro-Wilk test): 정규성 검정\n",
        "    - The Shapiro-Wilk test tests the null hypothesis that the\n",
        "        data was drawn from a normal distribution.\n",
        "\n",
        "데이터의 정규성을 판단하는 테스트는 샤피로 윌크 테스트말고도 몇 가지 더 있음.\n",
        "KS 테스트 등, 검정 방법도 조금씩 다름, 가장 흔히 많이 쓰이는 게 샤피로 윌크 테스트"
      ]
    },
    {
      "cell_type": "code",
      "execution_count": null,
      "id": "fad2e012",
      "metadata": {
        "ExecuteTime": {
          "end_time": "2022-10-06T13:44:34.558181Z",
          "start_time": "2022-10-06T13:44:33.069145Z"
        },
        "id": "fad2e012",
        "outputId": "22ac9388-2787-4cef-bc63-79de896192d5"
      },
      "outputs": [
        {
          "data": {
            "image/png": "[encoded data removed]",
            "text/plain": [
              "<Figure size 432x288 with 1 Axes>"
            ]
          },
          "metadata": {
            "image/png": {
              "height": 266,
              "width": 389
            }
          },
          "output_type": "display_data"
        }
      ],
      "source": [
        "sns.distplot(iris['sepal_length'], bins=30)\n",
        "plt.show()"
      ]
    },
    {
      "cell_type": "code",
      "execution_count": null,
      "id": "f86356f0",
      "metadata": {
        "ExecuteTime": {
          "end_time": "2022-10-06T13:45:58.569686Z",
          "start_time": "2022-10-06T13:45:58.561707Z"
        },
        "id": "f86356f0",
        "outputId": "334c9f59-3e72-47c0-ccc2-54c1f6129eb8"
      },
      "outputs": [
        {
          "name": "stdout",
          "output_type": "stream",
          "text": [
            "Test Statistic: 0.9760897755622864\n",
            "p value: 0.01017984002828598\n"
          ]
        }
      ],
      "source": [
        "stat, p = stats.shapiro(iris['sepal_length'])\n",
        "print('Test Statistic:', stat)\n",
        "print('p value:', p)    #p-value가 0.05보다 작은 걸 보니 정규분포를 따르는 데이터는 아닌 듯"
      ]
    },
    {
      "cell_type": "code",
      "execution_count": null,
      "id": "687d0296",
      "metadata": {
        "ExecuteTime": {
          "end_time": "2022-10-06T13:47:46.408077Z",
          "start_time": "2022-10-06T13:47:46.394115Z"
        },
        "id": "687d0296",
        "outputId": "2a0a56d7-9d3e-4b71-e8d3-e869bf3e9520"
      },
      "outputs": [
        {
          "name": "stdout",
          "output_type": "stream",
          "text": [
            "Test Statistic: 0.9981160759925842\n",
            "p value: 0.3346971869468689\n"
          ]
        }
      ],
      "source": [
        "U1 = np.random.random(size = 10000)\n",
        "U2 = np.random.random(size = 10000)\n",
        "X = np.sqrt(-2 * np.log(U1)) * np.cos(2* np.pi * U2)\n",
        "\n",
        "stat, p = stats.shapiro(X)\n",
        "#stat, p = stats.shapiro(np.random.normal(0, 1, 1000)) : 그냥 무식하게 numpy의 노말 분포 생성한 데이터를 직접 넣어봐도 p-value 0.05보다 크게 나옴\n",
        "print('Test Statistic:', stat)\n",
        "print('p value:', p)"
      ]
    },
    {
      "cell_type": "markdown",
      "source": [
        "one sample t test든 two sample t test든 데이터가 정규 분포에서 나왔다는 것이 가정되어야 함\n",
        "\n",
        "정규분포에서 가정되지 않는다면 적어도 이 데이터의 사이즈가 꽤 커야 됨\n",
        "\n",
        "정규성 검정이 통과되는 것을 one-sample t test는 가정하고 있기 때문에 샤피로 윌크 테스트 적용해보면 정규성 검정 만족할 것\n",
        "\n",
        "통계적 검정을 했는데 정규성 검정이 만족되지 않는다면, 적어도 실용적으로는 데이터 사이즈가 굉장히 커야 함, 정규분포 테스트도 통과를 못했는데 20이나 30처럼 작은 값으로 테스트 진행하는 것은 무리가 있음"
      ],
      "metadata": {
        "id": "O8pEYqoVqUf0"
      },
      "id": "O8pEYqoVqUf0"
    },
    {
      "cell_type": "markdown",
      "id": "7c22f84f",
      "metadata": {
        "id": "7c22f84f"
      },
      "source": [
        "### one sample t test\n",
        "정규분포에서 나온 데이터의 모평균이 표본평균과 일치하는지를 확인하는 테스트"
      ]
    },
    {
      "cell_type": "markdown",
      "id": "5aae4c96",
      "metadata": {
        "id": "5aae4c96"
      },
      "source": [
        "- one sample t test\n",
        "\\begin{align}\n",
        "\\dfrac{\\bar{x} - \\mu_0}{\\dfrac{s}{\\sqrt{N}}}\n",
        "\\end{align}\n",
        "\n",
        "    - T-test for the mean of ONE group of scores.\n",
        "    - A two-sided test for the null hypothesis that the expected value (mean) of a sample of independent observations `a` is equal to the given population mean\n",
        "    \n",
        "    (기댓값, 즉 샘플 평균이 모평균과 같다는 게 귀무가설)\n",
        "    \n"
      ]
    },
    {
      "cell_type": "code",
      "execution_count": null,
      "id": "756680ad",
      "metadata": {
        "ExecuteTime": {
          "end_time": "2022-10-06T13:51:18.170760Z",
          "start_time": "2022-10-06T13:51:18.163608Z"
        },
        "id": "756680ad",
        "outputId": "0b4307de-5684-4ea1-867c-8d4b24fba8c4"
      },
      "outputs": [
        {
          "name": "stdout",
          "output_type": "stream",
          "text": [
            "Test Statistic: 0.2201873583832361\n",
            "p value: 0.8272679614343238\n"
          ]
        }
      ],
      "source": [
        "sampled_data = car_crashes['ins_losses'].sample(30)\n",
        "pop_mean = car_crashes['ins_losses'].mean()   #popularity mean: 모평균    #이 교통사고 데이터가 전 세계 혹은 미국의 교통사고 데이터를 다 가지고 있고 이 보험사의 손실금액을 다 가지고 있다고 가정하고 mean을 취하면 그게 population mean이 됨\n",
        "\n",
        "stat, p = stats.ttest_1samp(sampled_data, pop_mean)\n",
        "print('Test Statistic:', stat)\n",
        "print('p value:', p)"
      ]
    },
    {
      "cell_type": "markdown",
      "id": "68817bd7",
      "metadata": {
        "id": "68817bd7"
      },
      "source": [
        "### two sample t test\n",
        "두 샘플의 평균이 같은지 테스트하는 검정 방법\n",
        "\n",
        "독립 표본 t 검정"
      ]
    },
    {
      "cell_type": "markdown",
      "id": "45d0248b",
      "metadata": {
        "id": "45d0248b"
      },
      "source": [
        "- independent two sample t test\n",
        "\\begin{align}\n",
        "t = \\dfrac{\\bar{x}_1 - \\bar{x}_2}{s \\cdot \\sqrt{\\dfrac{1}{N_1}+\\dfrac{1}{N_2}}}\n",
        "\\end{align}\n",
        "\n",
        "    - T-test for the means of *two independent* samples of scores.\n",
        "    - A two-sided test for the null hypothesis that 2 independent samples have identical average (expected) values. This test assumes that the populations have identical variances\n",
        "\n",
        "\n",
        "두 개의 독립적인 샘플에 대해 테스트, 독립적인 샘플이 각각 서로 동일한 기댓값(평균)을 갖는지를 테스트\n",
        "\n",
        "정규성 가정뿐만 아니라 두 샘플의 등분산성도 기본적으로 만족해야 함,\n",
        "등분산성이 위반되었을 때 따로 할 수 있는 옵션도 있지만 적어도 scipy에서 지원하는 independent two sample t test의 디폴트 옵션도 두 친구가 동일한 분산을 가지고 있다(등분산성이다)를 가정함\n",
        "\n",
        "-------\n",
        "\n",
        "\n",
        "위의 공식은 Test Statistic(검정 통계량)을 계산하는 공식\n",
        "\n",
        "x바는 표본평균들\n",
        "\n",
        "N은 샘플 사이즈\n",
        "\n",
        "s는 합동분산"
      ]
    },
    {
      "cell_type": "code",
      "execution_count": null,
      "id": "c280c5bc",
      "metadata": {
        "ExecuteTime": {
          "end_time": "2022-10-06T13:57:42.551272Z",
          "start_time": "2022-10-06T13:57:42.544292Z"
        },
        "id": "c280c5bc",
        "outputId": "1307c5e7-fcf5-4dc4-ecbd-b44e25151f4e"
      },
      "outputs": [
        {
          "name": "stdout",
          "output_type": "stream",
          "text": [
            "Test Statistic: 0.33416867757011504\n",
            "p value: 0.7389663386287633\n"
          ]
        }
      ],
      "source": [
        "sample_X = car_crashes.ins_losses.sample(50)\n",
        "sample_Y = car_crashes.ins_losses.sample(50)\n",
        "stat, p = stats.ttest_ind(sample_X, sample_Y)\n",
        "print('Test Statistic:', stat)\n",
        "print('p value:', p)"
      ]
    },
    {
      "cell_type": "markdown",
      "id": "fb0c75bf",
      "metadata": {
        "id": "fb0c75bf"
      },
      "source": [
        "## More"
      ]
    },
    {
      "cell_type": "markdown",
      "id": "e9395d00",
      "metadata": {
        "id": "e9395d00"
      },
      "source": [
        "- ANOVA / Regression Analysis -> 실행할 수 있는 패키지 꽤 많고 간편함\n",
        "    - statsmodels, scipy, scikit-learn, ...     -> statsmodels 사용하면 ANOVA와 회귀분석 쉽게 할 수 있고, 그 모델이 선형 회귀 모델이 가정하는 여러 가정들을 만족시키는지 직관적으로 알 수 있음\n",
        "- Bayesian Inference -> 통계에서 깊이 있게 실습, 공부하고 싶다면 Baysian Inference 공부해,\n",
        "    - pgmpy, PyMC3   -> 이거 공부하려면 PyMC3 공부해야 함, 베이지안 추론할 때 주로 많이 사용하는 패키지, 베이지안 추론할 때 주로 'MCMC'같은 알고리즘, 깊 샘플링 이런 것들 있는데, 이런 것들을 간편하고 빠르게 실행시켜 주는 알고리즘을 내장하고 있는 패키지임 / pgmpy는 유저 프렌들리하게 조건부확률 같은 것들 쉽게 직관적으로 계산 가능, 조건부확률에서 여러 결합 확률 분포나 marginolized 확률 분포같은 것들 계산할 때 pgmpy 사용 가능\n",
        "- TimeSeries Modeling   -> 시계열 모델링\n",
        "    - statsmodels   -> tslearn이라는 것도 있음, 시계열 모델링하는 패키지는 많은데, 통계에 가까운 건 statsmodels에서 대부분 해결 가능\n",
        "- Machine Learning   -> 깊이 있는 고급 통계 모델링으로 가려면 머신 러닝까지 가게될 것, 그러면 scikit-learn이라는 패키지를 반드시 활용하게 될 것, 그 때에도 아노바나 베이지안 인퍼런스, 시계열 모델링, 머신러닝까지 가도 여기서 다룬 코어한 지식들 그대로 유지됨\n",
        "    - statsmodels, scikit-learn, ...\n",
        "    \n",
        "    머신러닝은 예측이나 군집화 정도의 도구이지 이런 확률론의 펀더멘털한 지식은 관여되어 있지 않다? 그렇지 않음, 확률분포나 확률변수에 대한 개념이 기본적으로 갖춰져 있어야 머신러닝 모델링할 때도 수월하고 깊이 있게 가능"
      ]
    }
  ],
  "metadata": {
    "hide_input": false,
    "kernelspec": {
      "display_name": "Python 3 (ipykernel)",
      "language": "python",
      "name": "python3"
    },
    "language_info": {
      "codemirror_mode": {
        "name": "ipython",
        "version": 3
      },
      "file_extension": ".py",
      "mimetype": "text/x-python",
      "name": "python",
      "nbconvert_exporter": "python",
      "pygments_lexer": "ipython3",
      "version": "3.9.12"
    },
    "toc": {
      "base_numbering": 1,
      "nav_menu": {},
      "number_sections": true,
      "sideBar": true,
      "skip_h1_title": false,
      "title_cell": "Table of Contents",
      "title_sidebar": "Contents",
      "toc_cell": false,
      "toc_position": {},
      "toc_section_display": true,
      "toc_window_display": false
    },
    "varInspector": {
      "cols": {
        "lenName": 16,
        "lenType": 16,
        "lenVar": 40
      },
      "kernels_config": {
        "python": {
          "delete_cmd_postfix": "",
          "delete_cmd_prefix": "del ",
          "library": "var_list.py",
          "varRefreshCmd": "print(var_dic_list())"
        },
        "r": {
          "delete_cmd_postfix": ") ",
          "delete_cmd_prefix": "rm(",
          "library": "var_list.r",
          "varRefreshCmd": "cat(var_dic_list()) "
        }
      },
      "types_to_exclude": [
        "module",
        "function",
        "builtin_function_or_method",
        "instance",
        "_Feature"
      ],
      "window_display": false
    },
    "colab": {
      "provenance": [],
      "include_colab_link": true
    }
  },
  "nbformat": 4,
  "nbformat_minor": 5
}