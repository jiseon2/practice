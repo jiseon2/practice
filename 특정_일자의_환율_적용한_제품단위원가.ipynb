{
  "nbformat": 4,
  "nbformat_minor": 0,
  "metadata": {
    "colab": {
      "provenance": [],
      "authorship_tag": "ABX9TyNt0ywg8Z1vlt8inmaClU+d",
      "include_colab_link": true
    },
    "kernelspec": {
      "name": "python3",
      "display_name": "Python 3"
    },
    "language_info": {
      "name": "python"
    }
  },
  "cells": [
    {
      "cell_type": "markdown",
      "metadata": {
        "id": "view-in-github",
        "colab_type": "text"
      },
      "source": [
        "<a href=\"https://colab.research.google.com/github/jiseon2/practice/blob/main/%ED%8A%B9%EC%A0%95_%EC%9D%BC%EC%9E%90%EC%9D%98_%ED%99%98%EC%9C%A8_%EC%A0%81%EC%9A%A9%ED%95%9C_%EC%A0%9C%ED%92%88%EB%8B%A8%EC%9C%84%EC%9B%90%EA%B0%80.ipynb\" target=\"_parent\"><img src=\"https://colab.research.google.com/assets/colab-badge.svg\" alt=\"Open In Colab\"/></a>"
      ]
    },
    {
      "cell_type": "code",
      "execution_count": 5,
      "metadata": {
        "colab": {
          "base_uri": "https://localhost:8080/"
        },
        "id": "zT2Ew4LYJmvc",
        "outputId": "0b2d5c88-0eda-4da2-825b-90f2c9a7a08f"
      },
      "outputs": [
        {
          "output_type": "stream",
          "name": "stdout",
          "text": [
            "조정된 직접 재료비 (USD): 74.95 USD\n",
            "직접 노무비 (KRW): 60000.00 원\n",
            "간접 제조원가 (KRW): 40000.00 원\n",
            "총 제품 단위원가 (KRW): 5003.75 원\n"
          ]
        }
      ],
      "source": [
        "import requests\n",
        "\n",
        "def get_exchange_rate(base_currency, target_currency):\n",
        "    url = f\" https://www.koreaexim.go.kr/site/program/financial/exchangeJSON?authkey=f7uNVBFqwuA0eyL2l1ESFBJ0ErDVZACt&searchdate=20240925&data=AP01\"\n",
        "\n",
        "    try:\n",
        "        response = requests.get(url)\n",
        "        response.raise_for_status()  # 상태 코드 확인\n",
        "        data = response.json()\n",
        "\n",
        "       # 데이터가 리스트 형식이므로, 각 항목을 확인하여 원하는 환율을 찾음\n",
        "        for rate_info in data:\n",
        "            if rate_info['cur_unit'] == target_currency:\n",
        "                return float(rate_info['deal_bas_r'].replace(',', ''))  # 환율 값 반환\n",
        "\n",
        "        print(\"환율 정보가 포함되어 있지 않습니다.\")\n",
        "        return None\n",
        "\n",
        "    except requests.exceptions.RequestException as e:\n",
        "        print(f\"API 호출 중 오류 발생: {e}\")\n",
        "        return None\n",
        "\n",
        "def calculate_costs(material_cost_krw, labor_cost_krw, overhead_cost_krw, exchange_rate, production_quantity):\n",
        "    # 환율 변동은 직접 재료비에만 영향을 미침\n",
        "    adjusted_material_cost = material_cost_krw / exchange_rate  # KRW에서 USD로 변환\n",
        "    total_cost = (adjusted_material_cost + labor_cost_krw + overhead_cost_krw) / production_quantity\n",
        "    return adjusted_material_cost, labor_cost_krw, overhead_cost_krw, total_cost\n",
        "\n",
        "def main():\n",
        "    base_currency = \"KRW\"  # 기준 통화\n",
        "    target_currency = \"USD\"  # 목표 통화\n",
        "    production_quantity = 20  # 생산량\n",
        "\n",
        "    # 비용 설정 (KRW)\n",
        "    material_cost_krw = 100000  # 직접 재료비\n",
        "    labor_cost_krw = 60000       # 직접 노무비\n",
        "    overhead_cost_krw = 40000     # 간접 제조원가\n",
        "\n",
        "    # 환율 가져오기\n",
        "    exchange_rate = get_exchange_rate(base_currency, target_currency)\n",
        "\n",
        "    if exchange_rate:\n",
        "        # 비용 계산\n",
        "        adjusted_material_cost, labor_cost, overhead_cost, total_cost = calculate_costs(\n",
        "            material_cost_krw,\n",
        "            labor_cost_krw,\n",
        "            overhead_cost_krw,\n",
        "            exchange_rate,\n",
        "            production_quantity\n",
        "        )\n",
        "\n",
        "        print(f\"조정된 직접 재료비 (USD): {adjusted_material_cost:.2f} USD\")\n",
        "        print(f\"직접 노무비 (KRW): {labor_cost:.2f} 원\")\n",
        "        print(f\"간접 제조원가 (KRW): {overhead_cost:.2f} 원\")\n",
        "        print(f\"총 제품 단위원가 (KRW): {total_cost:.2f} 원\")\n",
        "    else:\n",
        "        print(\"환율을 계산할 수 없습니다.\")\n",
        "\n",
        "if __name__ == \"__main__\":\n",
        "    main()"
      ]
    }
  ]
}