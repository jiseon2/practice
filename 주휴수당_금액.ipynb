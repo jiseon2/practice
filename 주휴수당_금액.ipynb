{
  "nbformat": 4,
  "nbformat_minor": 0,
  "metadata": {
    "colab": {
      "provenance": [],
      "authorship_tag": "ABX9TyNSb/j3GHHHQ7hcdcRmmZcS",
      "include_colab_link": true
    },
    "kernelspec": {
      "name": "python3",
      "display_name": "Python 3"
    },
    "language_info": {
      "name": "python"
    }
  },
  "cells": [
    {
      "cell_type": "markdown",
      "metadata": {
        "id": "view-in-github",
        "colab_type": "text"
      },
      "source": [
        "<a href=\"https://colab.research.google.com/github/jiseon2/practice/blob/main/%EC%A3%BC%ED%9C%B4%EC%88%98%EB%8B%B9_%EA%B8%88%EC%95%A1.ipynb\" target=\"_parent\"><img src=\"https://colab.research.google.com/assets/colab-badge.svg\" alt=\"Open In Colab\"/></a>"
      ]
    },
    {
      "cell_type": "code",
      "source": [
        "a = input('시간 입력 : ')  # 문자열에 따옴표 치는 거 잊지 말기!\n",
        "a = int(a)\n",
        "\n",
        "result = ( (a * 2) / 40 ) * 8 * 9160\n",
        "result = int(result)\n",
        "result = str(result)\n",
        "print('주휴수당 금액은 ' + result + '원입니다.')"
      ],
      "metadata": {
        "colab": {
          "base_uri": "https://localhost:8080/"
        },
        "id": "aTaRHw3kkcfs",
        "outputId": "69d0f3b6-b911-48cf-e3e3-0f6d88ea26d6"
      },
      "execution_count": 52,
      "outputs": [
        {
          "output_type": "stream",
          "name": "stdout",
          "text": [
            "시간 입력 : 5\n",
            "주휴수당 금액은 18320원입니다.\n"
          ]
        }
      ]
    }
  ]
}