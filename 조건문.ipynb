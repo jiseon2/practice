{
  "nbformat": 4,
  "nbformat_minor": 0,
  "metadata": {
    "colab": {
      "provenance": [],
      "authorship_tag": "ABX9TyOv6NklI9+kSww2Ea6XVtCH",
      "include_colab_link": true
    },
    "kernelspec": {
      "name": "python3",
      "display_name": "Python 3"
    },
    "language_info": {
      "name": "python"
    }
  },
  "cells": [
    {
      "cell_type": "markdown",
      "metadata": {
        "id": "view-in-github",
        "colab_type": "text"
      },
      "source": [
        "<a href=\"https://colab.research.google.com/github/jiseon2/practice/blob/main/%EC%A1%B0%EA%B1%B4%EB%AC%B8.ipynb\" target=\"_parent\"><img src=\"https://colab.research.google.com/assets/colab-badge.svg\" alt=\"Open In Colab\"/></a>"
      ]
    },
    {
      "cell_type": "code",
      "execution_count": 3,
      "metadata": {
        "colab": {
          "base_uri": "https://localhost:8080/"
        },
        "id": "XWi8vY5O8p_8",
        "outputId": "4df7f931-d127-4ee5-d49c-1d177474b4d9"
      },
      "outputs": [
        {
          "output_type": "stream",
          "name": "stdout",
          "text": [
            "Cheer Up !\n"
          ]
        }
      ],
      "source": [
        "sub = 70000\n",
        "\n",
        "if (sub >= 100000) :\n",
        "  print('Silver Button !')\n",
        "else :\n",
        "  print('Cheer Up !')"
      ]
    },
    {
      "cell_type": "code",
      "source": [
        "if (sub >= 10000000) :\n",
        "  print('Diamond Button !')\n",
        "elif (sub >= 1000000) :\n",
        "  print('Gold Button !')\n",
        "elif (sub >= 100000) :\n",
        "  print('Silver Button !')\n",
        "else :\n",
        "  print('Cheer Up !')"
      ],
      "metadata": {
        "colab": {
          "base_uri": "https://localhost:8080/"
        },
        "id": "zQqWw6GgCyzM",
        "outputId": "f518e2a4-5552-42bb-dd3b-c7be2d44cb9a"
      },
      "execution_count": 4,
      "outputs": [
        {
          "output_type": "stream",
          "name": "stdout",
          "text": [
            "Cheer Up !\n"
          ]
        }
      ]
    },
    {
      "cell_type": "code",
      "source": [
        "#else 삭제\n",
        "sub = 70000000\n",
        "\n",
        "if (sub >= 10000000) :\n",
        "  print('Diamond Button !')\n",
        "elif (sub >= 1000000) :\n",
        "  print('Gold Button !')\n",
        "elif (sub >= 100000) :\n",
        "  print('Silver Button !')\n"
      ],
      "metadata": {
        "colab": {
          "base_uri": "https://localhost:8080/"
        },
        "outputId": "dd3c8405-f154-4ffa-e3d4-7d939dc90e2b",
        "id": "wtvVSNhdD2G2"
      },
      "execution_count": 6,
      "outputs": [
        {
          "output_type": "stream",
          "name": "stdout",
          "text": [
            "Diamond Button !\n"
          ]
        }
      ]
    },
    {
      "cell_type": "code",
      "source": [
        "#순서 바꾸기 #하나 성립하면 뒤엣것 무시\n",
        "sub = 70000000\n",
        "\n",
        "if (sub >= 100000) :\n",
        "  print('Silver Button !')\n",
        "elif (sub >= 1000000) :\n",
        "  print('Gold Button !')\n",
        "elif (sub >= 10000000) :\n",
        "  print('Diamond Button !')\n",
        "else :\n",
        "  print('Cheer Up !')"
      ],
      "metadata": {
        "colab": {
          "base_uri": "https://localhost:8080/"
        },
        "outputId": "a2ef02ed-0a3a-4d95-c0b5-64a692244ccd",
        "id": "-r7BN5wqEDAD"
      },
      "execution_count": 7,
      "outputs": [
        {
          "output_type": "stream",
          "name": "stdout",
          "text": [
            "Silver Button !\n"
          ]
        }
      ]
    },
    {
      "cell_type": "code",
      "source": [
        "#논리연산자 쓰임\n",
        "sub = 70000000\n",
        "\n",
        "if (sub >= 10000000) :\n",
        "  print('Diamond Button !')\n",
        "\n",
        "if (sub >= 1000000) and (sub < 10000000) :\n",
        "  print('Gold Button !')\n",
        "\n",
        "if (sub >= 100000) and (sub < 1000000) :\n",
        "  print('Silver Button !')\n",
        "\n",
        "if (sub < 100000) :\n",
        "  print('Cheer Up !')"
      ],
      "metadata": {
        "colab": {
          "base_uri": "https://localhost:8080/"
        },
        "outputId": "ccfb7ed0-f6a8-4806-ad3a-ebf7acdbf64e",
        "id": "t4YAjPjAG-mp"
      },
      "execution_count": 8,
      "outputs": [
        {
          "output_type": "stream",
          "name": "stdout",
          "text": [
            "Diamond Button !\n"
          ]
        }
      ]
    },
    {
      "cell_type": "code",
      "source": [
        "#Exercise 1\n",
        "area = input()\n",
        "area = int(area) * 3.3\n",
        "\n",
        "if (area <= 49) :\n",
        "  print('청년')\n",
        "elif (area <= 69) :\n",
        "  print('신혼부부')\n",
        "elif (area <= 89) :\n",
        "  print('일반부부')\n",
        "else :\n",
        "  print('노년층')"
      ],
      "metadata": {
        "colab": {
          "base_uri": "https://localhost:8080/"
        },
        "id": "tlwsoZRSHkfv",
        "outputId": "b8e5046c-6ce1-4011-db70-9dec2bee41ad"
      },
      "execution_count": 14,
      "outputs": [
        {
          "output_type": "stream",
          "name": "stdout",
          "text": [
            "20\n",
            "신혼부부\n"
          ]
        }
      ]
    },
    {
      "cell_type": "code",
      "source": [
        "#Exercise 2\n",
        "distance = input('주행 거리(km) ')\n",
        "time = input('탑승 시각 ')\n",
        "distance = int(distance)\n",
        "time = int(time)\n",
        "\n",
        "if (distance <= 3) :\n",
        "  fare = 4000\n",
        "else :\n",
        "  fare = 4000 + ( (distance - 3) * 500 )\n",
        "\n",
        "if (time >= 2300) or (time <= 359) :\n",
        "  fare = fare * 1.2 #정수 * 실수 하면 실수로 값 나옴(10800.0)\n",
        "  fare = int(fare)\n",
        "\n",
        "print(fare)"
      ],
      "metadata": {
        "colab": {
          "base_uri": "https://localhost:8080/"
        },
        "id": "0LEu9-vJKwIu",
        "outputId": "bc6e2e22-d47e-450e-8fc2-360b4b2be308"
      },
      "execution_count": 21,
      "outputs": [
        {
          "output_type": "stream",
          "name": "stdout",
          "text": [
            "주행 거리(km) 13\n",
            "탑승 시각 0030\n",
            "10800\n"
          ]
        }
      ]
    },
    {
      "cell_type": "code",
      "source": [
        "#참고\n",
        "a = '0030'\n",
        "a = int(a)\n",
        "print(a)"
      ],
      "metadata": {
        "colab": {
          "base_uri": "https://localhost:8080/"
        },
        "id": "kL6Tq5p2RZwh",
        "outputId": "c76a22cb-4ace-4e27-9914-4e82e82a2bf1"
      },
      "execution_count": 19,
      "outputs": [
        {
          "output_type": "stream",
          "name": "stdout",
          "text": [
            "30\n"
          ]
        }
      ]
    },
    {
      "cell_type": "code",
      "source": [
        "#조건문 중첩\n",
        "score_ma = input()\n",
        "score_py = input()\n",
        "score_ma = int(score_ma)\n",
        "score_py = int(score_py)\n",
        "avg = (score_ma + score_py) / 2\n",
        "\n",
        "if (avg >= 60) :    #뒤에 :(콜론) 잊지 말기!!\n",
        "  if (score_ma < 40) or (score_py < 40) :\n",
        "    print('과락')\n",
        "  else :\n",
        "    print('합격')\n",
        "else :\n",
        "  print('불합격')"
      ],
      "metadata": {
        "id": "Nt_7lDssTi-R"
      },
      "execution_count": null,
      "outputs": []
    }
  ]
}