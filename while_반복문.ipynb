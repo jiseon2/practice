{
  "nbformat": 4,
  "nbformat_minor": 0,
  "metadata": {
    "colab": {
      "provenance": [],
      "authorship_tag": "ABX9TyN7eGzwziVUG9E418D6DW2N",
      "include_colab_link": true
    },
    "kernelspec": {
      "name": "python3",
      "display_name": "Python 3"
    },
    "language_info": {
      "name": "python"
    }
  },
  "cells": [
    {
      "cell_type": "markdown",
      "metadata": {
        "id": "view-in-github",
        "colab_type": "text"
      },
      "source": [
        "<a href=\"https://colab.research.google.com/github/jiseon2/practice/blob/main/while_%EB%B0%98%EB%B3%B5%EB%AC%B8.ipynb\" target=\"_parent\"><img src=\"https://colab.research.google.com/assets/colab-badge.svg\" alt=\"Open In Colab\"/></a>"
      ]
    },
    {
      "cell_type": "code",
      "execution_count": 6,
      "metadata": {
        "colab": {
          "base_uri": "https://localhost:8080/"
        },
        "id": "FKYFBh-8rmXN",
        "outputId": "b41b799d-b2e7-482f-e4ac-51113b00f303"
      },
      "outputs": [
        {
          "output_type": "stream",
          "name": "stdout",
          "text": [
            "8\n",
            "*\n",
            "**\n",
            "***\n",
            "****\n",
            "*****\n",
            "******\n",
            "*******\n",
            "********\n"
          ]
        }
      ],
      "source": [
        "#Exercise 1\n",
        "\n",
        "N = input()\n",
        "N = int(N)\n",
        "\n",
        "i=1\n",
        "\n",
        "while(i <= N):\n",
        "  print(\"*\" * i)\n",
        "  i = i + 1"
      ]
    },
    {
      "cell_type": "code",
      "source": [
        "#Exercise 2\n",
        "\n",
        "n = input('수를 입력하세요 : ')\n",
        "n = int(n)\n",
        "\n",
        "while (n != 1) :\n",
        "  if (n % 2 == 1) :\n",
        "    n = n * 3 + 1\n",
        "  else :\n",
        "    n = n / 2           # 11 대신 \"n // 2\"로 해도 정수 나옴, 몫\n",
        "  n = int(n)\n",
        "  print(n)\n",
        "\n",
        "print('역시 클라츠 대단하네요.')"
      ],
      "metadata": {
        "colab": {
          "base_uri": "https://localhost:8080/"
        },
        "id": "nQHnxbi61NRe",
        "outputId": "968756a7-1b1d-42cd-cb2e-b851b993691d"
      },
      "execution_count": 9,
      "outputs": [
        {
          "output_type": "stream",
          "name": "stdout",
          "text": [
            "수를 입력하세요 : 3\n",
            "10\n",
            "5\n",
            "16\n",
            "8\n",
            "4\n",
            "2\n",
            "1\n",
            "역시 클라츠 대단하네요.\n"
          ]
        }
      ]
    },
    {
      "cell_type": "code",
      "source": [
        "n = input('수를 입력하세요 : ')\n",
        "n = int(n)\n",
        "\n",
        "while (True) :\n",
        "  if (n % 2 == 1) :\n",
        "    n = n * 3 + 1\n",
        "  else :\n",
        "    n = n // 2\n",
        "  print(n)\n",
        "  if (n == 1) :\n",
        "    break\n",
        "\n",
        "print('역시 클라츠 대단하네요.')"
      ],
      "metadata": {
        "colab": {
          "base_uri": "https://localhost:8080/"
        },
        "id": "aYCFhzid5rYA",
        "outputId": "07d2ea47-a3ce-48e8-9f5b-7ea074cdb2fc"
      },
      "execution_count": 12,
      "outputs": [
        {
          "output_type": "stream",
          "name": "stdout",
          "text": [
            "수를 입력하세요 : 3\n",
            "10\n",
            "5\n",
            "16\n",
            "8\n",
            "4\n",
            "2\n",
            "1\n",
            "역시 클라츠 대단하네요.\n"
          ]
        }
      ]
    },
    {
      "cell_type": "code",
      "source": [
        "#Exercise 3\n",
        "\n",
        "sales = input()\n",
        "sales = int(sales)\n",
        "max = sales\n",
        "min = sales\n",
        "\n",
        "while (True) :\n",
        "  sales = input()\n",
        "  sales = int(sales)\n",
        "  if (sales < 0 or sales > 100000000) :\n",
        "    break\n",
        "  if (sales > max):\n",
        "    max = sales\n",
        "  if (sales < min):\n",
        "    min = sales\n",
        "\n",
        "\n",
        "print(\"최고 매출액 :\", max)\n",
        "print(\"최저 매출액 :\", min)"
      ],
      "metadata": {
        "colab": {
          "base_uri": "https://localhost:8080/"
        },
        "id": "8ZfgvEHZ6HXP",
        "outputId": "d7a375db-fb4c-4d06-83ab-be9adf7693fb"
      },
      "execution_count": 6,
      "outputs": [
        {
          "output_type": "stream",
          "name": "stdout",
          "text": [
            "10\n",
            "20\n",
            "500\n",
            "-3\n",
            "최고 매출액 : 500\n",
            "최저 매출액 : 10\n"
          ]
        }
      ]
    }
  ]
}