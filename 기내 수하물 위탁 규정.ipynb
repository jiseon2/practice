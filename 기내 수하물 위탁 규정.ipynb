{
  "nbformat": 4,
  "nbformat_minor": 0,
  "metadata": {
    "colab": {
      "provenance": [],
      "authorship_tag": "ABX9TyOoPjYyocJMQTmkT6/FlEGa",
      "include_colab_link": true
    },
    "kernelspec": {
      "name": "python3",
      "display_name": "Python 3"
    },
    "language_info": {
      "name": "python"
    }
  },
  "cells": [
    {
      "cell_type": "markdown",
      "metadata": {
        "id": "view-in-github",
        "colab_type": "text"
      },
      "source": [
        "<a href=\"https://colab.research.google.com/github/jiseon2/practice/blob/main/%EA%B8%B0%EB%82%B4%20%EC%88%98%ED%95%98%EB%AC%BC%20%EC%9C%84%ED%83%81%20%EA%B7%9C%EC%A0%95.ipynb\" target=\"_parent\"><img src=\"https://colab.research.google.com/assets/colab-badge.svg\" alt=\"Open In Colab\"/></a>"
      ]
    },
    {
      "cell_type": "code",
      "execution_count": 5,
      "metadata": {
        "colab": {
          "base_uri": "https://localhost:8080/"
        },
        "id": "MchkPgX2jlei",
        "outputId": "6ec6f3cb-0f5d-4be3-9b15-72c2b1214908"
      },
      "outputs": [
        {
          "output_type": "stream",
          "name": "stdout",
          "text": [
            "성인 고객 수를 입력하세요 : 1\n",
            "아동 고객 수를 입력하세요 : 1\n",
            "수하물 무게(kg)를 입력하세요 : 13\n",
            "위탁 가능합니다.\n"
          ]
        }
      ],
      "source": [
        "adult = input('성인 고객 수를 입력하세요 : ')\n",
        "child = input('아동 고객 수를 입력하세요 : ')\n",
        "total = input('수하물 무게(kg)를 입력하세요 : ')\n",
        "\n",
        "adult = int(adult)\n",
        "child = int(child)\n",
        "total = int(total)\n",
        "\n",
        "if (total > 40) :\n",
        "  print('위탁 불가합니다.')\n",
        "else :\n",
        "  if (child > 0) :\n",
        "    if (adult == 0) :\n",
        "      print('위탁 불가합니다.')\n",
        "    else :\n",
        "      if (total > (15 * adult) + (8 * child)) :\n",
        "        print('위탁 불가합니다.')\n",
        "      else :\n",
        "        print('위탁 가능합니다.')\n",
        "  else:\n",
        "    if (total > 15 * adult):\n",
        "      print('위탁 불가합니다.')\n",
        "    else :\n",
        "      print('위탁 가능합니다.')"
      ]
    }
  ]
}