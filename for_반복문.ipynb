{
  "nbformat": 4,
  "nbformat_minor": 0,
  "metadata": {
    "colab": {
      "provenance": [],
      "authorship_tag": "ABX9TyPZ4tFCg+yXHg0aX8A+gqGX",
      "include_colab_link": true
    },
    "kernelspec": {
      "name": "python3",
      "display_name": "Python 3"
    },
    "language_info": {
      "name": "python"
    }
  },
  "cells": [
    {
      "cell_type": "markdown",
      "metadata": {
        "id": "view-in-github",
        "colab_type": "text"
      },
      "source": [
        "<a href=\"https://colab.research.google.com/github/jiseon2/practice/blob/main/for_%EB%B0%98%EB%B3%B5%EB%AC%B8.ipynb\" target=\"_parent\"><img src=\"https://colab.research.google.com/assets/colab-badge.svg\" alt=\"Open In Colab\"/></a>"
      ]
    },
    {
      "cell_type": "code",
      "source": [
        "#Exercise 4\n",
        "\n",
        "total = 0\n",
        "print('Python 만보기')\n",
        "\n",
        "for i in range(1,11):\n",
        "  print('오늘', i, '보 걸었어요.')\n",
        "  total = total + i\n",
        "\n",
        "print('지금까지 총', total, '보 걸었네요!')"
      ],
      "metadata": {
        "colab": {
          "base_uri": "https://localhost:8080/"
        },
        "id": "O34FFVNcR7La",
        "outputId": "43edcf3e-0de4-4578-f8fa-a54bfe091182"
      },
      "execution_count": 3,
      "outputs": [
        {
          "output_type": "stream",
          "name": "stdout",
          "text": [
            "Python 만보기\n",
            "오늘 1 보 걸었어요.\n",
            "오늘 2 보 걸었어요.\n",
            "오늘 3 보 걸었어요.\n",
            "오늘 4 보 걸었어요.\n",
            "오늘 5 보 걸었어요.\n",
            "오늘 6 보 걸었어요.\n",
            "오늘 7 보 걸었어요.\n",
            "오늘 8 보 걸었어요.\n",
            "오늘 9 보 걸었어요.\n",
            "오늘 10 보 걸었어요.\n",
            "지금까지 총 55 보 걸었네요!\n"
          ]
        }
      ]
    },
    {
      "cell_type": "code",
      "source": [
        "#Exercise 5\n",
        "\n",
        "num = input()\n",
        "num = int(num)\n",
        "\n",
        "for i in range(2, num):\n",
        "  if (num % i) == 0:\n",
        "    print('소수가 아닙니다.')\n",
        "    break\n",
        "else:\n",
        "  print('소수입니다.')"
      ],
      "metadata": {
        "colab": {
          "base_uri": "https://localhost:8080/"
        },
        "id": "fG4db_WETcUJ",
        "outputId": "527ac9e4-dff6-463f-9928-bac0304369bf"
      },
      "execution_count": 12,
      "outputs": [
        {
          "output_type": "stream",
          "name": "stdout",
          "text": [
            "79\n",
            "소수입니다.\n"
          ]
        }
      ]
    }
  ]
}